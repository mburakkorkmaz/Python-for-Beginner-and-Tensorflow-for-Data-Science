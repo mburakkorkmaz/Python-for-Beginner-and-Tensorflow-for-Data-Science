{
 "cells": [
  {
   "cell_type": "code",
   "execution_count": 1,
   "id": "f1741a5d",
   "metadata": {},
   "outputs": [],
   "source": [
    "import numpy as np\n",
    "import pandas as pd"
   ]
  },
  {
   "cell_type": "markdown",
   "id": "305a1d4f",
   "metadata": {},
   "source": [
    "# Series"
   ]
  },
  {
   "cell_type": "code",
   "execution_count": 5,
   "id": "aae76cdb",
   "metadata": {},
   "outputs": [],
   "source": [
    "benimSozlugum = {\"Burak\" : 25,\"Ayşe\" : 30,\"Ahmet\" : 42, \"Murat\" : 16}"
   ]
  },
  {
   "cell_type": "code",
   "execution_count": 10,
   "id": "484b5f19",
   "metadata": {},
   "outputs": [
    {
     "data": {
      "text/plain": [
       "Burak    25\n",
       "Ayşe     30\n",
       "Ahmet    42\n",
       "Murat    40\n",
       "dtype: int64"
      ]
     },
     "execution_count": 10,
     "metadata": {},
     "output_type": "execute_result"
    }
   ],
   "source": [
    "pd.Series(benimSozlugum)"
   ]
  },
  {
   "cell_type": "code",
   "execution_count": 11,
   "id": "5ab1695f",
   "metadata": {},
   "outputs": [],
   "source": [
    "benimYaslarim = ([50,40,30])\n",
    "benimIsimlerim = ([\"Burak\",\"Ahmet\",\"Murat\"])\n"
   ]
  },
  {
   "cell_type": "code",
   "execution_count": 14,
   "id": "df119197",
   "metadata": {},
   "outputs": [
    {
     "data": {
      "text/plain": [
       "50    Burak\n",
       "40    Ahmet\n",
       "30    Murat\n",
       "dtype: object"
      ]
     },
     "execution_count": 14,
     "metadata": {},
     "output_type": "execute_result"
    }
   ],
   "source": [
    "pd.Series(benimIsimlerim,benimYaslarim)"
   ]
  },
  {
   "cell_type": "code",
   "execution_count": 16,
   "id": "ddb9ed64",
   "metadata": {},
   "outputs": [
    {
     "data": {
      "text/plain": [
       "Burak    50\n",
       "Ahmet    40\n",
       "Murat    30\n",
       "dtype: int64"
      ]
     },
     "execution_count": 16,
     "metadata": {},
     "output_type": "execute_result"
    }
   ],
   "source": [
    "pd.Series(data = benimYaslarim,index=benimIsimlerim)"
   ]
  },
  {
   "cell_type": "code",
   "execution_count": 31,
   "id": "dfd2eb4e",
   "metadata": {},
   "outputs": [
    {
     "data": {
      "text/plain": [
       "array([50, 40, 30])"
      ]
     },
     "execution_count": 31,
     "metadata": {},
     "output_type": "execute_result"
    }
   ],
   "source": [
    "numpyDizisi = np.array([50,40,30])\n",
    "numpyDizisi"
   ]
  },
  {
   "cell_type": "code",
   "execution_count": 32,
   "id": "12d964f3",
   "metadata": {},
   "outputs": [
    {
     "data": {
      "text/plain": [
       "0    50\n",
       "1    40\n",
       "2    30\n",
       "dtype: int32"
      ]
     },
     "execution_count": 32,
     "metadata": {},
     "output_type": "execute_result"
    }
   ],
   "source": [
    "pd.Series(numpyDizisi)"
   ]
  },
  {
   "cell_type": "code",
   "execution_count": 33,
   "id": "9f2a3b67",
   "metadata": {},
   "outputs": [
    {
     "data": {
      "text/plain": [
       "Burak    50\n",
       "Ahmet    40\n",
       "Murat    30\n",
       "dtype: int32"
      ]
     },
     "execution_count": 33,
     "metadata": {},
     "output_type": "execute_result"
    }
   ],
   "source": [
    "pd.Series(numpyDizisi,benimIsimlerim)"
   ]
  },
  {
   "cell_type": "code",
   "execution_count": 34,
   "id": "c76cd134",
   "metadata": {},
   "outputs": [
    {
     "data": {
      "text/plain": [
       "0    Burak\n",
       "1    Ahmet\n",
       "2    Osmna\n",
       "dtype: object"
      ]
     },
     "execution_count": 34,
     "metadata": {},
     "output_type": "execute_result"
    }
   ],
   "source": [
    "pd.Series([\"Burak\",\"Ahmet\",\"Osmna\"])"
   ]
  },
  {
   "cell_type": "code",
   "execution_count": 35,
   "id": "8c6e974d",
   "metadata": {},
   "outputs": [
    {
     "data": {
      "text/plain": [
       "1    Burak\n",
       "2    Ahmet\n",
       "3    Osmna\n",
       "dtype: object"
      ]
     },
     "execution_count": 35,
     "metadata": {},
     "output_type": "execute_result"
    }
   ],
   "source": [
    "pd.Series([\"Burak\",\"Ahmet\",\"Osmna\"],[1,2,3])"
   ]
  },
  {
   "cell_type": "code",
   "execution_count": 36,
   "id": "e54bd973",
   "metadata": {},
   "outputs": [],
   "source": [
    "yarismaSonucu1 = pd.Series([10,20,1],[\"Burak\",\"Ahmet\",\"Osman\"])"
   ]
  },
  {
   "cell_type": "code",
   "execution_count": 37,
   "id": "bf385158",
   "metadata": {},
   "outputs": [
    {
     "data": {
      "text/plain": [
       "Burak    10\n",
       "Ahmet    20\n",
       "Osman     1\n",
       "dtype: int64"
      ]
     },
     "execution_count": 37,
     "metadata": {},
     "output_type": "execute_result"
    }
   ],
   "source": [
    "yarismaSonucu1"
   ]
  },
  {
   "cell_type": "code",
   "execution_count": 38,
   "id": "bcc96107",
   "metadata": {},
   "outputs": [],
   "source": [
    "yarismaSonucu2 = pd.Series([30,13,31],[\"Burak\",\"Ahmet\",\"Osman\"])"
   ]
  },
  {
   "cell_type": "code",
   "execution_count": 39,
   "id": "ec46aff3",
   "metadata": {},
   "outputs": [
    {
     "data": {
      "text/plain": [
       "Burak    30\n",
       "Ahmet    13\n",
       "Osman    31\n",
       "dtype: int64"
      ]
     },
     "execution_count": 39,
     "metadata": {},
     "output_type": "execute_result"
    }
   ],
   "source": [
    "yarismaSonucu2"
   ]
  },
  {
   "cell_type": "code",
   "execution_count": 40,
   "id": "a1c7e5d2",
   "metadata": {},
   "outputs": [
    {
     "data": {
      "text/plain": [
       "30"
      ]
     },
     "execution_count": 40,
     "metadata": {},
     "output_type": "execute_result"
    }
   ],
   "source": [
    "yarismaSonucu2[\"Burak\"]"
   ]
  },
  {
   "cell_type": "code",
   "execution_count": 41,
   "id": "83572d51",
   "metadata": {},
   "outputs": [],
   "source": [
    "sonSonuc = yarismaSonucu1 + yarismaSonucu2"
   ]
  },
  {
   "cell_type": "code",
   "execution_count": 42,
   "id": "9b4eb293",
   "metadata": {},
   "outputs": [
    {
     "data": {
      "text/plain": [
       "Burak    40\n",
       "Ahmet    33\n",
       "Osman    32\n",
       "dtype: int64"
      ]
     },
     "execution_count": 42,
     "metadata": {},
     "output_type": "execute_result"
    }
   ],
   "source": [
    "sonSonuc"
   ]
  },
  {
   "cell_type": "code",
   "execution_count": 44,
   "id": "fc7e6ba0",
   "metadata": {},
   "outputs": [],
   "source": [
    "farkliSeries = pd.Series([20,30,40,50],[\"a\",\"b\",\"c\",\"d\"])"
   ]
  },
  {
   "cell_type": "code",
   "execution_count": 45,
   "id": "979361a9",
   "metadata": {},
   "outputs": [],
   "source": [
    "farkliSeries1 = pd.Series([8,2,5,12],[\"a\",\"c\",\"f\",\"g\"])"
   ]
  },
  {
   "cell_type": "code",
   "execution_count": 46,
   "id": "1e7acfd6",
   "metadata": {},
   "outputs": [
    {
     "data": {
      "text/plain": [
       "(a    20\n",
       " b    30\n",
       " c    40\n",
       " d    50\n",
       " dtype: int64,\n",
       " a     8\n",
       " c     2\n",
       " f     5\n",
       " g    12\n",
       " dtype: int64)"
      ]
     },
     "execution_count": 46,
     "metadata": {},
     "output_type": "execute_result"
    }
   ],
   "source": [
    "farkliSeries,farkliSeries1"
   ]
  },
  {
   "cell_type": "code",
   "execution_count": 48,
   "id": "7344615e",
   "metadata": {},
   "outputs": [],
   "source": [
    "z = farkliSeries + farkliSeries1"
   ]
  },
  {
   "cell_type": "code",
   "execution_count": 49,
   "id": "677a7cca",
   "metadata": {},
   "outputs": [
    {
     "data": {
      "text/plain": [
       "a    28.0\n",
       "b     NaN\n",
       "c    42.0\n",
       "d     NaN\n",
       "f     NaN\n",
       "g     NaN\n",
       "dtype: float64"
      ]
     },
     "execution_count": 49,
     "metadata": {},
     "output_type": "execute_result"
    }
   ],
   "source": [
    "z "
   ]
  },
  {
   "cell_type": "code",
   "execution_count": 52,
   "id": "b1faa635",
   "metadata": {},
   "outputs": [
    {
     "data": {
      "text/plain": [
       "a    False\n",
       "b     True\n",
       "c    False\n",
       "d     True\n",
       "f     True\n",
       "g     True\n",
       "dtype: bool"
      ]
     },
     "execution_count": 52,
     "metadata": {},
     "output_type": "execute_result"
    }
   ],
   "source": [
    "z.isnull()"
   ]
  },
  {
   "cell_type": "code",
   "execution_count": null,
   "id": "c35b699f",
   "metadata": {},
   "outputs": [],
   "source": []
  }
 ],
 "metadata": {
  "kernelspec": {
   "display_name": "Python 3 (ipykernel)",
   "language": "python",
   "name": "python3"
  },
  "language_info": {
   "codemirror_mode": {
    "name": "ipython",
    "version": 3
   },
   "file_extension": ".py",
   "mimetype": "text/x-python",
   "name": "python",
   "nbconvert_exporter": "python",
   "pygments_lexer": "ipython3",
   "version": "3.9.7"
  }
 },
 "nbformat": 4,
 "nbformat_minor": 5
}
