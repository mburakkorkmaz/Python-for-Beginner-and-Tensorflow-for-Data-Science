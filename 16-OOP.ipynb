{
 "cells": [
  {
   "cell_type": "markdown",
   "id": "6972661f",
   "metadata": {},
   "source": [
    "# onject-oriented programming (OOP)"
   ]
  },
  {
   "cell_type": "code",
   "execution_count": 2,
   "id": "afc8c6f1",
   "metadata": {},
   "outputs": [],
   "source": [
    "benimListem = list()"
   ]
  },
  {
   "cell_type": "code",
   "execution_count": 3,
   "id": "0247a311",
   "metadata": {},
   "outputs": [
    {
     "data": {
      "text/plain": [
       "list"
      ]
     },
     "execution_count": 3,
     "metadata": {},
     "output_type": "execute_result"
    }
   ],
   "source": [
    "type(benimListem)"
   ]
  },
  {
   "cell_type": "markdown",
   "id": "1739d709",
   "metadata": {},
   "source": [
    "# instance & attribute"
   ]
  },
  {
   "cell_type": "code",
   "execution_count": 57,
   "id": "74f2aad5",
   "metadata": {},
   "outputs": [],
   "source": [
    "class SuperKahraman(): #Sınıflarda ilk harf büyük yazılır.\n",
    "    ozelGuc=\"Görünmezlik\"\n",
    "    def __init__(self,isim,yas,meslek):\n",
    "        print(\"İnit Çağırıldı.\")\n",
    "        self.isim = isim\n",
    "        self.yas = yas\n",
    "        self.meslek = meslek\n",
    "    \n",
    "    def ornekMetod(self):\n",
    "        print(f\"Ben süper kahramanım ve mesleğim: {self.meslek}\")"
   ]
  },
  {
   "cell_type": "code",
   "execution_count": 58,
   "id": "9be85b1a",
   "metadata": {},
   "outputs": [
    {
     "name": "stdout",
     "output_type": "stream",
     "text": [
      "İnit Çağırıldı.\n"
     ]
    }
   ],
   "source": [
    "superman = SuperKahraman(\"Superman\",30,\"Gazeteci\")"
   ]
  },
  {
   "cell_type": "code",
   "execution_count": 59,
   "id": "574fce4c",
   "metadata": {},
   "outputs": [],
   "source": [
    "superman.isim = \"Clark Kent\""
   ]
  },
  {
   "cell_type": "code",
   "execution_count": 60,
   "id": "1ad0ab41",
   "metadata": {},
   "outputs": [
    {
     "data": {
      "text/plain": [
       "'Clark Kent'"
      ]
     },
     "execution_count": 60,
     "metadata": {},
     "output_type": "execute_result"
    }
   ],
   "source": [
    "superman.isim"
   ]
  },
  {
   "cell_type": "code",
   "execution_count": 61,
   "id": "03f34e5e",
   "metadata": {},
   "outputs": [
    {
     "data": {
      "text/plain": [
       "'Görünmezlik'"
      ]
     },
     "execution_count": 61,
     "metadata": {},
     "output_type": "execute_result"
    }
   ],
   "source": [
    "superman.ozelGuc"
   ]
  },
  {
   "cell_type": "code",
   "execution_count": 62,
   "id": "b421deb2",
   "metadata": {},
   "outputs": [
    {
     "name": "stdout",
     "output_type": "stream",
     "text": [
      "Ben süper kahramanım ve mesleğim: Gazeteci\n"
     ]
    }
   ],
   "source": [
    "superman.ornekMetod()"
   ]
  },
  {
   "cell_type": "code",
   "execution_count": 86,
   "id": "41c8d4b6",
   "metadata": {},
   "outputs": [],
   "source": [
    "class Kopek():\n",
    "    yilCarpani=7\n",
    "    def __init__(self,yas=5): # default değer 5 olarak ayarlandı.\n",
    "        self.yas = yas\n",
    "    def insanYasiniHesapla(self):\n",
    "        return self.yas*self.yilCarpani"
   ]
  },
  {
   "cell_type": "code",
   "execution_count": 87,
   "id": "dae4d782",
   "metadata": {},
   "outputs": [],
   "source": [
    "benimKopek = Kopek()"
   ]
  },
  {
   "cell_type": "code",
   "execution_count": 88,
   "id": "2fa84191",
   "metadata": {},
   "outputs": [
    {
     "data": {
      "text/plain": [
       "5"
      ]
     },
     "execution_count": 88,
     "metadata": {},
     "output_type": "execute_result"
    }
   ],
   "source": [
    "benimKopek.yas"
   ]
  },
  {
   "cell_type": "code",
   "execution_count": 85,
   "id": "cc499a51",
   "metadata": {},
   "outputs": [
    {
     "data": {
      "text/plain": [
       "35"
      ]
     },
     "execution_count": 85,
     "metadata": {},
     "output_type": "execute_result"
    }
   ],
   "source": [
    "benimKopek.insanYasiniHesapla()"
   ]
  },
  {
   "cell_type": "markdown",
   "id": "458c7728",
   "metadata": {},
   "source": [
    "# inheritance"
   ]
  },
  {
   "cell_type": "code",
   "execution_count": 93,
   "id": "3757c866",
   "metadata": {},
   "outputs": [],
   "source": [
    "class Hayvan():\n",
    "    def __init__(self):\n",
    "        print(\"hayvan init çağırıldı.\")\n",
    "    def metod1(self):\n",
    "        print(\"hayvan sınıfı metod 1 çağırıldı.\")\n",
    "    def metod2(self):\n",
    "        print(\"hayvan sınıfı metod 2 çağrıldı\")"
   ]
  },
  {
   "cell_type": "code",
   "execution_count": 94,
   "id": "d784d1f2",
   "metadata": {},
   "outputs": [
    {
     "name": "stdout",
     "output_type": "stream",
     "text": [
      "hayvan init çağırıldı.\n"
     ]
    }
   ],
   "source": [
    "benimHayvan= Hayvan()\n"
   ]
  },
  {
   "cell_type": "code",
   "execution_count": 95,
   "id": "c4361365",
   "metadata": {},
   "outputs": [
    {
     "name": "stdout",
     "output_type": "stream",
     "text": [
      "hayvan sınıfı metod 1 çağırıldı.\n"
     ]
    }
   ],
   "source": [
    "benimHayvan.metod1()"
   ]
  },
  {
   "cell_type": "code",
   "execution_count": 96,
   "id": "576b3871",
   "metadata": {},
   "outputs": [
    {
     "name": "stdout",
     "output_type": "stream",
     "text": [
      "hayvan sınıfı metod 2 çağrıldı\n"
     ]
    }
   ],
   "source": [
    "benimHayvan.metod2()"
   ]
  },
  {
   "cell_type": "code",
   "execution_count": 102,
   "id": "5f3f30a5",
   "metadata": {},
   "outputs": [
    {
     "ename": "SyntaxError",
     "evalue": "invalid syntax (Temp/ipykernel_14064/2734618480.py, line 6)",
     "output_type": "error",
     "traceback": [
      "\u001b[1;36m  File \u001b[1;32m\"C:\\Users\\burak\\AppData\\Local\\Temp/ipykernel_14064/2734618480.py\"\u001b[1;36m, line \u001b[1;32m6\u001b[0m\n\u001b[1;33m    def miyavla(self):\u001b[0m\n\u001b[1;37m    ^\u001b[0m\n\u001b[1;31mSyntaxError\u001b[0m\u001b[1;31m:\u001b[0m invalid syntax\n"
     ]
    }
   ],
   "source": [
    "class Cat(Hayvan):\n",
    "    def __init__(self):\n",
    "        Hayvan.__init__(self)\n",
    "        print(\"Kedi Sınıfı İnit çağrıldı\"\n",
    "    \n",
    "    def miyavla(self):\n",
    "        print(\"miyav\")"
   ]
  },
  {
   "cell_type": "code",
   "execution_count": 103,
   "id": "13034f67",
   "metadata": {},
   "outputs": [
    {
     "name": "stdout",
     "output_type": "stream",
     "text": [
      "hayvan init çağırıldı.\n",
      "Kedi Sınıfı İnit çağrıldı\n"
     ]
    }
   ],
   "source": [
    "benimKedi = Cat()"
   ]
  },
  {
   "cell_type": "code",
   "execution_count": 104,
   "id": "af41911a",
   "metadata": {},
   "outputs": [
    {
     "name": "stdout",
     "output_type": "stream",
     "text": [
      "hayvan sınıfı metod 1 çağırıldı.\n"
     ]
    }
   ],
   "source": [
    "benimKedi.metod1()"
   ]
  },
  {
   "cell_type": "markdown",
   "id": "17b2a413",
   "metadata": {},
   "source": [
    "# Polymorphism"
   ]
  },
  {
   "cell_type": "code",
   "execution_count": 105,
   "id": "d1a79117",
   "metadata": {},
   "outputs": [],
   "source": [
    "class Elma():\n",
    "    def __init__(self,isim):\n",
    "        self.isim=isim\n",
    "    def bilgiVer(self):\n",
    "        return self.isim + \"100 kaloridir.\"\n",
    "    "
   ]
  },
  {
   "cell_type": "code",
   "execution_count": 106,
   "id": "f57797b1",
   "metadata": {},
   "outputs": [],
   "source": [
    "class Muz():\n",
    "    def __init__(self,isim):\n",
    "        self.isim=isim\n",
    "    \n",
    "    def bilgiVer(self):\n",
    "        return self.isim + \"150 kaloridir\""
   ]
  },
  {
   "cell_type": "code",
   "execution_count": 107,
   "id": "c354d8c1",
   "metadata": {},
   "outputs": [],
   "source": [
    "elma = Elma(\"Elma\")"
   ]
  },
  {
   "cell_type": "code",
   "execution_count": 108,
   "id": "58052ae7",
   "metadata": {},
   "outputs": [
    {
     "data": {
      "text/plain": [
       "'Elma100 kaloridir.'"
      ]
     },
     "execution_count": 108,
     "metadata": {},
     "output_type": "execute_result"
    }
   ],
   "source": [
    "elma.bilgiVer()"
   ]
  },
  {
   "cell_type": "code",
   "execution_count": 109,
   "id": "fd4b7403",
   "metadata": {},
   "outputs": [],
   "source": [
    "muz = Muz(\"Muz\")"
   ]
  },
  {
   "cell_type": "code",
   "execution_count": 110,
   "id": "3317d9bd",
   "metadata": {},
   "outputs": [
    {
     "data": {
      "text/plain": [
       "'Muz150 kaloridir'"
      ]
     },
     "execution_count": 110,
     "metadata": {},
     "output_type": "execute_result"
    }
   ],
   "source": [
    "muz.bilgiVer()"
   ]
  },
  {
   "cell_type": "code",
   "execution_count": 111,
   "id": "f3534e5b",
   "metadata": {},
   "outputs": [],
   "source": [
    "meyveListesi = [elma,muz]"
   ]
  },
  {
   "cell_type": "code",
   "execution_count": 112,
   "id": "847cf41e",
   "metadata": {},
   "outputs": [
    {
     "name": "stdout",
     "output_type": "stream",
     "text": [
      "Elma100 kaloridir.\n",
      "Muz150 kaloridir\n"
     ]
    }
   ],
   "source": [
    "for meyve in meyveListesi:\n",
    "    print(meyve.bilgiVer())"
   ]
  },
  {
   "cell_type": "code",
   "execution_count": 113,
   "id": "923f5b71",
   "metadata": {},
   "outputs": [],
   "source": [
    "def bilgiAkl(meyve):\n",
    "    print(meyve.bilgiVer())"
   ]
  },
  {
   "cell_type": "code",
   "execution_count": 114,
   "id": "0e87d137",
   "metadata": {},
   "outputs": [
    {
     "name": "stdout",
     "output_type": "stream",
     "text": [
      "Muz150 kaloridir\n"
     ]
    }
   ],
   "source": [
    "bilgiAkl(muz)"
   ]
  },
  {
   "cell_type": "code",
   "execution_count": null,
   "id": "ca67bf90",
   "metadata": {},
   "outputs": [],
   "source": []
  }
 ],
 "metadata": {
  "kernelspec": {
   "display_name": "Python 3 (ipykernel)",
   "language": "python",
   "name": "python3"
  },
  "language_info": {
   "codemirror_mode": {
    "name": "ipython",
    "version": 3
   },
   "file_extension": ".py",
   "mimetype": "text/x-python",
   "name": "python",
   "nbconvert_exporter": "python",
   "pygments_lexer": "ipython3",
   "version": "3.9.7"
  }
 },
 "nbformat": 4,
 "nbformat_minor": 5
}
