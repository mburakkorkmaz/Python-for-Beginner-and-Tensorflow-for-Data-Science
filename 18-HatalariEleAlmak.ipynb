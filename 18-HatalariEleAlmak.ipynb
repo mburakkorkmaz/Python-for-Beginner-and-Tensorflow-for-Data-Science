{
 "cells": [
  {
   "cell_type": "code",
   "execution_count": 1,
   "id": "f6bbe45c",
   "metadata": {},
   "outputs": [],
   "source": [
    "def toplama(numara1,numara2):\n",
    "    return numara1+numara2"
   ]
  },
  {
   "cell_type": "code",
   "execution_count": 9,
   "id": "2ae6456c",
   "metadata": {},
   "outputs": [
    {
     "name": "stdout",
     "output_type": "stream",
     "text": [
      "İlk Numarayı Giriniz: 10\n",
      "İkinci Numarayı Giriniz: 20\n"
     ]
    },
    {
     "data": {
      "text/plain": [
       "30"
      ]
     },
     "execution_count": 9,
     "metadata": {},
     "output_type": "execute_result"
    }
   ],
   "source": [
    "x = int(input(\"İlk Numarayı Giriniz: \"))\n",
    "y = int(input(\"İkinci Numarayı Giriniz: \"))\n",
    "toplama(x,y)"
   ]
  },
  {
   "cell_type": "markdown",
   "id": "5cec330d",
   "metadata": {},
   "source": [
    "# try & except & else & finally"
   ]
  },
  {
   "cell_type": "code",
   "execution_count": 1,
   "id": "5294f470",
   "metadata": {},
   "outputs": [
    {
     "name": "stdout",
     "output_type": "stream",
     "text": [
      "Numaranızı Giriniz: a\n",
      "Lütfen Gerçek Numaranızı Giriniz...\n",
      "finally çağrıldı\n",
      "Numaranızı Giriniz: 10\n",
      "Teşekkürler... :) \n",
      "finally çağrıldı\n"
     ]
    }
   ],
   "source": [
    "while True:\n",
    "    try:\n",
    "        benimINT= int(input(\"Numaranızı Giriniz: \"))\n",
    "    except:\n",
    "        print(\"Lütfen Gerçek Numaranızı Giriniz...\")\n",
    "        continue\n",
    "    else:\n",
    "        print(\"Teşekkürler... :) \")\n",
    "        break\n",
    "    finally:\n",
    "        print(\"finally çağrıldı\")"
   ]
  },
  {
   "cell_type": "code",
   "execution_count": null,
   "id": "b1e6fee1",
   "metadata": {},
   "outputs": [],
   "source": []
  }
 ],
 "metadata": {
  "kernelspec": {
   "display_name": "Python 3 (ipykernel)",
   "language": "python",
   "name": "python3"
  },
  "language_info": {
   "codemirror_mode": {
    "name": "ipython",
    "version": 3
   },
   "file_extension": ".py",
   "mimetype": "text/x-python",
   "name": "python",
   "nbconvert_exporter": "python",
   "pygments_lexer": "ipython3",
   "version": "3.9.7"
  }
 },
 "nbformat": 4,
 "nbformat_minor": 5
}
