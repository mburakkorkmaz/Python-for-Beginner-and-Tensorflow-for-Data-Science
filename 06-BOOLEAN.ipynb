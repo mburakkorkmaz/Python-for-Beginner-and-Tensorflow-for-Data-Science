{
 "cells": [
  {
   "cell_type": "code",
   "execution_count": 1,
   "id": "37decb9b",
   "metadata": {},
   "outputs": [],
   "source": [
    "benimBoolean = True "
   ]
  },
  {
   "cell_type": "code",
   "execution_count": 2,
   "id": "f9508351",
   "metadata": {},
   "outputs": [
    {
     "data": {
      "text/plain": [
       "True"
      ]
     },
     "execution_count": 2,
     "metadata": {},
     "output_type": "execute_result"
    }
   ],
   "source": [
    "benimBoolean"
   ]
  },
  {
   "cell_type": "code",
   "execution_count": 3,
   "id": "b957fa65",
   "metadata": {},
   "outputs": [
    {
     "data": {
      "text/plain": [
       "bool"
      ]
     },
     "execution_count": 3,
     "metadata": {},
     "output_type": "execute_result"
    }
   ],
   "source": [
    "type(benimBoolean)"
   ]
  },
  {
   "cell_type": "code",
   "execution_count": 4,
   "id": "984766b5",
   "metadata": {},
   "outputs": [],
   "source": [
    "benimBoolean = False"
   ]
  },
  {
   "cell_type": "code",
   "execution_count": 5,
   "id": "7c404e17",
   "metadata": {},
   "outputs": [
    {
     "data": {
      "text/plain": [
       "False"
      ]
     },
     "execution_count": 5,
     "metadata": {},
     "output_type": "execute_result"
    }
   ],
   "source": [
    "10 < 5 "
   ]
  },
  {
   "cell_type": "code",
   "execution_count": 9,
   "id": "07520691",
   "metadata": {},
   "outputs": [],
   "source": [
    "listem1 = (5000,10000,3000,2000,4000)"
   ]
  },
  {
   "cell_type": "code",
   "execution_count": 12,
   "id": "2fdbc388",
   "metadata": {},
   "outputs": [
    {
     "data": {
      "text/plain": [
       "5"
      ]
     },
     "execution_count": 12,
     "metadata": {},
     "output_type": "execute_result"
    }
   ],
   "source": [
    "len(listem1)"
   ]
  },
  {
   "cell_type": "code",
   "execution_count": 15,
   "id": "6cf8bb7d",
   "metadata": {},
   "outputs": [
    {
     "data": {
      "text/plain": [
       "4800.0"
      ]
     },
     "execution_count": 15,
     "metadata": {},
     "output_type": "execute_result"
    }
   ],
   "source": [
    "sum(listem1) / len(listem1)"
   ]
  },
  {
   "cell_type": "code",
   "execution_count": 21,
   "id": "cde03586",
   "metadata": {},
   "outputs": [
    {
     "name": "stdout",
     "output_type": "stream",
     "text": [
      "Maas Bilgisini Giriniz: 2000\n"
     ]
    }
   ],
   "source": [
    "maas = int(input(\"Maas Bilgisini Giriniz: \"))"
   ]
  },
  {
   "cell_type": "code",
   "execution_count": 22,
   "id": "cfecacdc",
   "metadata": {},
   "outputs": [
    {
     "data": {
      "text/plain": [
       "2000"
      ]
     },
     "execution_count": 22,
     "metadata": {},
     "output_type": "execute_result"
    }
   ],
   "source": [
    "maas "
   ]
  },
  {
   "cell_type": "code",
   "execution_count": 23,
   "id": "d8b6e413",
   "metadata": {},
   "outputs": [
    {
     "data": {
      "text/plain": [
       "True"
      ]
     },
     "execution_count": 23,
     "metadata": {},
     "output_type": "execute_result"
    }
   ],
   "source": [
    "maas < 6000\n"
   ]
  },
  {
   "cell_type": "code",
   "execution_count": 24,
   "id": "b2e1057b",
   "metadata": {},
   "outputs": [],
   "source": [
    "x = 10 \n",
    "y = 8"
   ]
  },
  {
   "cell_type": "code",
   "execution_count": 25,
   "id": "6dc16800",
   "metadata": {},
   "outputs": [
    {
     "data": {
      "text/plain": [
       "False"
      ]
     },
     "execution_count": 25,
     "metadata": {},
     "output_type": "execute_result"
    }
   ],
   "source": [
    "x < y "
   ]
  },
  {
   "cell_type": "code",
   "execution_count": 26,
   "id": "8afd5251",
   "metadata": {},
   "outputs": [
    {
     "data": {
      "text/plain": [
       "True"
      ]
     },
     "execution_count": 26,
     "metadata": {},
     "output_type": "execute_result"
    }
   ],
   "source": [
    "y<x "
   ]
  },
  {
   "cell_type": "code",
   "execution_count": 27,
   "id": "ed904173",
   "metadata": {},
   "outputs": [
    {
     "data": {
      "text/plain": [
       "True"
      ]
     },
     "execution_count": 27,
     "metadata": {},
     "output_type": "execute_result"
    }
   ],
   "source": [
    "9 >= 8"
   ]
  },
  {
   "cell_type": "code",
   "execution_count": 28,
   "id": "20492845",
   "metadata": {},
   "outputs": [
    {
     "data": {
      "text/plain": [
       "True"
      ]
     },
     "execution_count": 28,
     "metadata": {},
     "output_type": "execute_result"
    }
   ],
   "source": [
    "9 >=9"
   ]
  },
  {
   "cell_type": "code",
   "execution_count": 29,
   "id": "4c955520",
   "metadata": {},
   "outputs": [
    {
     "data": {
      "text/plain": [
       "True"
      ]
     },
     "execution_count": 29,
     "metadata": {},
     "output_type": "execute_result"
    }
   ],
   "source": [
    "9 == 9"
   ]
  },
  {
   "cell_type": "code",
   "execution_count": 30,
   "id": "43569872",
   "metadata": {},
   "outputs": [
    {
     "data": {
      "text/plain": [
       "False"
      ]
     },
     "execution_count": 30,
     "metadata": {},
     "output_type": "execute_result"
    }
   ],
   "source": [
    "9 != 9"
   ]
  },
  {
   "cell_type": "code",
   "execution_count": 31,
   "id": "bf66cc47",
   "metadata": {},
   "outputs": [
    {
     "data": {
      "text/plain": [
       "True"
      ]
     },
     "execution_count": 31,
     "metadata": {},
     "output_type": "execute_result"
    }
   ],
   "source": [
    "x != y"
   ]
  },
  {
   "cell_type": "code",
   "execution_count": 32,
   "id": "62e37658",
   "metadata": {},
   "outputs": [
    {
     "data": {
      "text/plain": [
       "True"
      ]
     },
     "execution_count": 32,
     "metadata": {},
     "output_type": "execute_result"
    }
   ],
   "source": [
    "3 > 1 and 3>2 "
   ]
  },
  {
   "cell_type": "code",
   "execution_count": 33,
   "id": "920943de",
   "metadata": {},
   "outputs": [
    {
     "data": {
      "text/plain": [
       "True"
      ]
     },
     "execution_count": 33,
     "metadata": {},
     "output_type": "execute_result"
    }
   ],
   "source": [
    "3 > 4 or 3 >2"
   ]
  },
  {
   "cell_type": "code",
   "execution_count": 34,
   "id": "3c12d1cc",
   "metadata": {},
   "outputs": [
    {
     "data": {
      "text/plain": [
       "False"
      ]
     },
     "execution_count": 34,
     "metadata": {},
     "output_type": "execute_result"
    }
   ],
   "source": [
    "1 > 3 and 3 > 2 "
   ]
  },
  {
   "cell_type": "code",
   "execution_count": 35,
   "id": "8865c2e2",
   "metadata": {},
   "outputs": [
    {
     "data": {
      "text/plain": [
       "True"
      ]
     },
     "execution_count": 35,
     "metadata": {},
     "output_type": "execute_result"
    }
   ],
   "source": [
    "1 > 3 or 3 > 2 "
   ]
  },
  {
   "cell_type": "code",
   "execution_count": 36,
   "id": "e647065c",
   "metadata": {},
   "outputs": [
    {
     "data": {
      "text/plain": [
       "False"
      ]
     },
     "execution_count": 36,
     "metadata": {},
     "output_type": "execute_result"
    }
   ],
   "source": [
    "not 1 < 3 "
   ]
  },
  {
   "cell_type": "code",
   "execution_count": 37,
   "id": "8edcbcb3",
   "metadata": {},
   "outputs": [
    {
     "data": {
      "text/plain": [
       "True"
      ]
     },
     "execution_count": 37,
     "metadata": {},
     "output_type": "execute_result"
    }
   ],
   "source": [
    "not 5==4"
   ]
  },
  {
   "cell_type": "code",
   "execution_count": null,
   "id": "1a5ce10b",
   "metadata": {},
   "outputs": [],
   "source": []
  }
 ],
 "metadata": {
  "kernelspec": {
   "display_name": "Python 3 (ipykernel)",
   "language": "python",
   "name": "python3"
  },
  "language_info": {
   "codemirror_mode": {
    "name": "ipython",
    "version": 3
   },
   "file_extension": ".py",
   "mimetype": "text/x-python",
   "name": "python",
   "nbconvert_exporter": "python",
   "pygments_lexer": "ipython3",
   "version": "3.9.7"
  }
 },
 "nbformat": 4,
 "nbformat_minor": 5
}
