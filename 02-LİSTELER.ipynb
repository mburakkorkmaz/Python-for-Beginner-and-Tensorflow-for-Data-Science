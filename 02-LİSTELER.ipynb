{
 "cells": [
  {
   "cell_type": "code",
   "execution_count": 1,
   "id": "a73a6e0f",
   "metadata": {},
   "outputs": [],
   "source": [
    "benimString = \"Muhammed Burak Korkmaz\""
   ]
  },
  {
   "cell_type": "code",
   "execution_count": 4,
   "id": "bdc20837",
   "metadata": {},
   "outputs": [
    {
     "data": {
      "text/plain": [
       "'M'"
      ]
     },
     "execution_count": 4,
     "metadata": {},
     "output_type": "execute_result"
    }
   ],
   "source": [
    "benimString[0]"
   ]
  },
  {
   "cell_type": "code",
   "execution_count": 5,
   "id": "27609082",
   "metadata": {},
   "outputs": [],
   "source": [
    "# immutability \n",
    "# mutable "
   ]
  },
  {
   "cell_type": "code",
   "execution_count": 24,
   "id": "0f35a4e3",
   "metadata": {},
   "outputs": [],
   "source": [
    "# benimString[0] = \"B\""
   ]
  },
  {
   "cell_type": "code",
   "execution_count": 7,
   "id": "e7d8e234",
   "metadata": {},
   "outputs": [],
   "source": [
    "benimListem = [10,20,30,40]"
   ]
  },
  {
   "cell_type": "code",
   "execution_count": 10,
   "id": "135e1005",
   "metadata": {},
   "outputs": [
    {
     "data": {
      "text/plain": [
       "list"
      ]
     },
     "execution_count": 10,
     "metadata": {},
     "output_type": "execute_result"
    }
   ],
   "source": [
    "type(benimListem)"
   ]
  },
  {
   "cell_type": "code",
   "execution_count": 12,
   "id": "63d7946a",
   "metadata": {},
   "outputs": [],
   "source": [
    "benimNumaram = 10 \n",
    "benimDigerNumaram = 20 \n",
    "benimNumaraListem = [benimNumaram,benimDigerNumaram]"
   ]
  },
  {
   "cell_type": "code",
   "execution_count": 13,
   "id": "c36a69d9",
   "metadata": {},
   "outputs": [
    {
     "data": {
      "text/plain": [
       "10"
      ]
     },
     "execution_count": 13,
     "metadata": {},
     "output_type": "execute_result"
    }
   ],
   "source": [
    "benimNumaraListem[0]"
   ]
  },
  {
   "cell_type": "code",
   "execution_count": 14,
   "id": "66c46a7e",
   "metadata": {},
   "outputs": [
    {
     "data": {
      "text/plain": [
       "10"
      ]
     },
     "execution_count": 14,
     "metadata": {},
     "output_type": "execute_result"
    }
   ],
   "source": [
    "benimNumaraListem[0]"
   ]
  },
  {
   "cell_type": "code",
   "execution_count": 15,
   "id": "6b4cdc29",
   "metadata": {},
   "outputs": [
    {
     "data": {
      "text/plain": [
       "40"
      ]
     },
     "execution_count": 15,
     "metadata": {},
     "output_type": "execute_result"
    }
   ],
   "source": [
    "benimListem[3]"
   ]
  },
  {
   "cell_type": "code",
   "execution_count": 16,
   "id": "26075222",
   "metadata": {},
   "outputs": [
    {
     "data": {
      "text/plain": [
       "[10, 20, 30, 40]"
      ]
     },
     "execution_count": 16,
     "metadata": {},
     "output_type": "execute_result"
    }
   ],
   "source": [
    "benimListem"
   ]
  },
  {
   "cell_type": "code",
   "execution_count": 17,
   "id": "24486906",
   "metadata": {},
   "outputs": [],
   "source": [
    "benimListem[0] = 100"
   ]
  },
  {
   "cell_type": "code",
   "execution_count": 18,
   "id": "988a1bb4",
   "metadata": {},
   "outputs": [
    {
     "data": {
      "text/plain": [
       "[100, 20, 30, 40]"
      ]
     },
     "execution_count": 18,
     "metadata": {},
     "output_type": "execute_result"
    }
   ],
   "source": [
    "benimListem"
   ]
  },
  {
   "cell_type": "code",
   "execution_count": 22,
   "id": "281d81e7",
   "metadata": {},
   "outputs": [],
   "source": [
    "benimListem.append(50)"
   ]
  },
  {
   "cell_type": "code",
   "execution_count": 23,
   "id": "fea8da69",
   "metadata": {},
   "outputs": [
    {
     "data": {
      "text/plain": [
       "[100, 20, 30, 40, 50]"
      ]
     },
     "execution_count": 23,
     "metadata": {},
     "output_type": "execute_result"
    }
   ],
   "source": [
    "benimListem"
   ]
  },
  {
   "cell_type": "code",
   "execution_count": 26,
   "id": "84e8da2f",
   "metadata": {},
   "outputs": [
    {
     "data": {
      "text/plain": [
       "50"
      ]
     },
     "execution_count": 26,
     "metadata": {},
     "output_type": "execute_result"
    }
   ],
   "source": [
    "benimListem.pop()"
   ]
  },
  {
   "cell_type": "code",
   "execution_count": 27,
   "id": "6970c254",
   "metadata": {},
   "outputs": [
    {
     "data": {
      "text/plain": [
       "[100, 20, 30, 40]"
      ]
     },
     "execution_count": 27,
     "metadata": {},
     "output_type": "execute_result"
    }
   ],
   "source": [
    "benimListem"
   ]
  },
  {
   "cell_type": "code",
   "execution_count": 28,
   "id": "a4ed59b7",
   "metadata": {},
   "outputs": [],
   "source": [
    "benimListem.remove(40)"
   ]
  },
  {
   "cell_type": "code",
   "execution_count": 29,
   "id": "8e3935b6",
   "metadata": {},
   "outputs": [
    {
     "data": {
      "text/plain": [
       "[100, 20, 30]"
      ]
     },
     "execution_count": 29,
     "metadata": {},
     "output_type": "execute_result"
    }
   ],
   "source": [
    "benimListem"
   ]
  },
  {
   "cell_type": "code",
   "execution_count": 30,
   "id": "0c4dcdc4",
   "metadata": {},
   "outputs": [
    {
     "ename": "ValueError",
     "evalue": "list.remove(x): x not in list",
     "output_type": "error",
     "traceback": [
      "\u001b[1;31m---------------------------------------------------------------------------\u001b[0m",
      "\u001b[1;31mValueError\u001b[0m                                Traceback (most recent call last)",
      "\u001b[1;32m~\\AppData\\Local\\Temp/ipykernel_2312/936410960.py\u001b[0m in \u001b[0;36m<module>\u001b[1;34m\u001b[0m\n\u001b[1;32m----> 1\u001b[1;33m \u001b[0mbenimListem\u001b[0m\u001b[1;33m.\u001b[0m\u001b[0mremove\u001b[0m\u001b[1;33m(\u001b[0m\u001b[1;36m5\u001b[0m\u001b[1;33m)\u001b[0m\u001b[1;33m\u001b[0m\u001b[1;33m\u001b[0m\u001b[0m\n\u001b[0m",
      "\u001b[1;31mValueError\u001b[0m: list.remove(x): x not in list"
     ]
    }
   ],
   "source": [
    "# benimListem.remove(5)"
   ]
  },
  {
   "cell_type": "code",
   "execution_count": 37,
   "id": "fc535311",
   "metadata": {},
   "outputs": [
    {
     "data": {
      "text/plain": [
       "1"
      ]
     },
     "execution_count": 37,
     "metadata": {},
     "output_type": "execute_result"
    }
   ],
   "source": [
    "benimListem.count(20)"
   ]
  },
  {
   "cell_type": "code",
   "execution_count": 38,
   "id": "90952eac",
   "metadata": {},
   "outputs": [],
   "source": [
    "benimListem.append(20)"
   ]
  },
  {
   "cell_type": "code",
   "execution_count": 39,
   "id": "7c6e39ce",
   "metadata": {},
   "outputs": [
    {
     "data": {
      "text/plain": [
       "2"
      ]
     },
     "execution_count": 39,
     "metadata": {},
     "output_type": "execute_result"
    }
   ],
   "source": [
    "benimListem.count(20)"
   ]
  },
  {
   "cell_type": "code",
   "execution_count": 40,
   "id": "6dddbaa7",
   "metadata": {},
   "outputs": [],
   "source": [
    "benimStringListem = [\"Burak\",\"Korkmaz\",\"Ayşe\",\"Murat\"]"
   ]
  },
  {
   "cell_type": "code",
   "execution_count": 41,
   "id": "a6f28289",
   "metadata": {},
   "outputs": [
    {
     "data": {
      "text/plain": [
       "['Burak', 'Korkmaz', 'Ayşe', 'Murat']"
      ]
     },
     "execution_count": 41,
     "metadata": {},
     "output_type": "execute_result"
    }
   ],
   "source": [
    "benimStringListem"
   ]
  },
  {
   "cell_type": "code",
   "execution_count": 42,
   "id": "777a0c46",
   "metadata": {},
   "outputs": [
    {
     "data": {
      "text/plain": [
       "'Ayşe'"
      ]
     },
     "execution_count": 42,
     "metadata": {},
     "output_type": "execute_result"
    }
   ],
   "source": [
    "benimStringListem[2]"
   ]
  },
  {
   "cell_type": "code",
   "execution_count": 43,
   "id": "fa056d38",
   "metadata": {},
   "outputs": [
    {
     "data": {
      "text/plain": [
       "['Burak', 'Korkmaz', 'Ayşe', 'Murat', '1', '2', '3', '4']"
      ]
     },
     "execution_count": 43,
     "metadata": {},
     "output_type": "execute_result"
    }
   ],
   "source": [
    "benimStringListem2 = [\"1\",\"2\",\"3\",\"4\"]\n",
    "x = benimStringListem + benimStringListem2\n",
    "x"
   ]
  },
  {
   "cell_type": "code",
   "execution_count": 44,
   "id": "c4e870fb",
   "metadata": {},
   "outputs": [
    {
     "data": {
      "text/plain": [
       "['Burak',\n",
       " 'Korkmaz',\n",
       " 'Ayşe',\n",
       " 'Murat',\n",
       " '1',\n",
       " '2',\n",
       " '3',\n",
       " '4',\n",
       " 'Burak',\n",
       " 'Korkmaz',\n",
       " 'Ayşe',\n",
       " 'Murat',\n",
       " '1',\n",
       " '2',\n",
       " '3',\n",
       " '4',\n",
       " 'Burak',\n",
       " 'Korkmaz',\n",
       " 'Ayşe',\n",
       " 'Murat',\n",
       " '1',\n",
       " '2',\n",
       " '3',\n",
       " '4',\n",
       " 'Burak',\n",
       " 'Korkmaz',\n",
       " 'Ayşe',\n",
       " 'Murat',\n",
       " '1',\n",
       " '2',\n",
       " '3',\n",
       " '4',\n",
       " 'Burak',\n",
       " 'Korkmaz',\n",
       " 'Ayşe',\n",
       " 'Murat',\n",
       " '1',\n",
       " '2',\n",
       " '3',\n",
       " '4']"
      ]
     },
     "execution_count": 44,
     "metadata": {},
     "output_type": "execute_result"
    }
   ],
   "source": [
    "x * 5 \n"
   ]
  },
  {
   "cell_type": "code",
   "execution_count": 45,
   "id": "a7cf31c3",
   "metadata": {},
   "outputs": [
    {
     "data": {
      "text/plain": [
       "['Burak', 'Korkmaz', 'Ayşe', 'Murat', '1', '2', '3', '4']"
      ]
     },
     "execution_count": 45,
     "metadata": {},
     "output_type": "execute_result"
    }
   ],
   "source": [
    "x "
   ]
  },
  {
   "cell_type": "code",
   "execution_count": 46,
   "id": "9c1730c6",
   "metadata": {},
   "outputs": [],
   "source": [
    "x.reverse()"
   ]
  },
  {
   "cell_type": "code",
   "execution_count": 47,
   "id": "c2890262",
   "metadata": {},
   "outputs": [
    {
     "data": {
      "text/plain": [
       "['4', '3', '2', '1', 'Murat', 'Ayşe', 'Korkmaz', 'Burak']"
      ]
     },
     "execution_count": 47,
     "metadata": {},
     "output_type": "execute_result"
    }
   ],
   "source": [
    "x"
   ]
  },
  {
   "cell_type": "code",
   "execution_count": 48,
   "id": "93ef3439",
   "metadata": {},
   "outputs": [],
   "source": [
    "karisikListe = [1,2,3.5,\"Burak\",9]"
   ]
  },
  {
   "cell_type": "code",
   "execution_count": 49,
   "id": "b606e6ee",
   "metadata": {},
   "outputs": [
    {
     "data": {
      "text/plain": [
       "list"
      ]
     },
     "execution_count": 49,
     "metadata": {},
     "output_type": "execute_result"
    }
   ],
   "source": [
    "type(karisikListe)"
   ]
  },
  {
   "cell_type": "code",
   "execution_count": 54,
   "id": "06970080",
   "metadata": {},
   "outputs": [],
   "source": [
    "sonucum = karisikListe[3]"
   ]
  },
  {
   "cell_type": "code",
   "execution_count": 55,
   "id": "765ff3e5",
   "metadata": {},
   "outputs": [
    {
     "data": {
      "text/plain": [
       "str"
      ]
     },
     "execution_count": 55,
     "metadata": {},
     "output_type": "execute_result"
    }
   ],
   "source": [
    "type(sonucum)"
   ]
  },
  {
   "cell_type": "code",
   "execution_count": 56,
   "id": "5c2b9b59",
   "metadata": {},
   "outputs": [],
   "source": [
    "nestedList = [1,5,\"Burak\",4,[6,\"z\"]]"
   ]
  },
  {
   "cell_type": "code",
   "execution_count": 62,
   "id": "06360e8d",
   "metadata": {},
   "outputs": [
    {
     "data": {
      "text/plain": [
       "list"
      ]
     },
     "execution_count": 62,
     "metadata": {},
     "output_type": "execute_result"
    }
   ],
   "source": [
    "type(nestedList[4])"
   ]
  },
  {
   "cell_type": "code",
   "execution_count": 65,
   "id": "0c47ba3c",
   "metadata": {},
   "outputs": [],
   "source": [
    "zDegisken = nestedList[4]"
   ]
  },
  {
   "cell_type": "code",
   "execution_count": 66,
   "id": "eae0aed1",
   "metadata": {},
   "outputs": [
    {
     "data": {
      "text/plain": [
       "[6, 'z']"
      ]
     },
     "execution_count": 66,
     "metadata": {},
     "output_type": "execute_result"
    }
   ],
   "source": [
    "zDegisken"
   ]
  },
  {
   "cell_type": "code",
   "execution_count": null,
   "id": "5d7e3ba4",
   "metadata": {},
   "outputs": [],
   "source": []
  }
 ],
 "metadata": {
  "kernelspec": {
   "display_name": "Python 3 (ipykernel)",
   "language": "python",
   "name": "python3"
  },
  "language_info": {
   "codemirror_mode": {
    "name": "ipython",
    "version": 3
   },
   "file_extension": ".py",
   "mimetype": "text/x-python",
   "name": "python",
   "nbconvert_exporter": "python",
   "pygments_lexer": "ipython3",
   "version": "3.9.7"
  }
 },
 "nbformat": 4,
 "nbformat_minor": 5
}
