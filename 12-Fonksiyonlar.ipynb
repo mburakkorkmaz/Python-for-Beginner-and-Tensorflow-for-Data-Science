{
 "cells": [
  {
   "cell_type": "code",
   "execution_count": 1,
   "id": "5f4ca1e9",
   "metadata": {},
   "outputs": [],
   "source": [
    "benimAdim = \"Burak Korkmaz\""
   ]
  },
  {
   "cell_type": "code",
   "execution_count": 4,
   "id": "bf90457c",
   "metadata": {},
   "outputs": [
    {
     "data": {
      "text/plain": [
       "'BURAK KORKMAZ'"
      ]
     },
     "execution_count": 4,
     "metadata": {},
     "output_type": "execute_result"
    }
   ],
   "source": [
    "benimAdim.upper()"
   ]
  },
  {
   "cell_type": "code",
   "execution_count": 5,
   "id": "af9bee3a",
   "metadata": {},
   "outputs": [
    {
     "data": {
      "text/plain": [
       "'Burak Korkmaz'"
      ]
     },
     "execution_count": 5,
     "metadata": {},
     "output_type": "execute_result"
    }
   ],
   "source": [
    "benimAdim"
   ]
  },
  {
   "cell_type": "code",
   "execution_count": 6,
   "id": "f2b92dcc",
   "metadata": {},
   "outputs": [],
   "source": [
    "benimAdimUpper = benimAdim.upper()"
   ]
  },
  {
   "cell_type": "code",
   "execution_count": 7,
   "id": "f97abfcd",
   "metadata": {},
   "outputs": [
    {
     "data": {
      "text/plain": [
       "'BURAK KORKMAZ'"
      ]
     },
     "execution_count": 7,
     "metadata": {},
     "output_type": "execute_result"
    }
   ],
   "source": [
    "benimAdimUpper"
   ]
  },
  {
   "cell_type": "code",
   "execution_count": 8,
   "id": "563ff551",
   "metadata": {},
   "outputs": [
    {
     "data": {
      "text/plain": [
       "'Burak Korkmaz'"
      ]
     },
     "execution_count": 8,
     "metadata": {},
     "output_type": "execute_result"
    }
   ],
   "source": [
    "benimAdim"
   ]
  },
  {
   "cell_type": "code",
   "execution_count": 11,
   "id": "2ed03675",
   "metadata": {},
   "outputs": [
    {
     "data": {
      "text/plain": [
       "'BURAK KORKMAZ'"
      ]
     },
     "execution_count": 11,
     "metadata": {},
     "output_type": "execute_result"
    }
   ],
   "source": [
    "benimAdim.upper()"
   ]
  },
  {
   "cell_type": "code",
   "execution_count": 12,
   "id": "3717b6db",
   "metadata": {},
   "outputs": [],
   "source": [
    "def ilkFonsiyon():\n",
    "    print(\"Benim ilk fonksiyonum.\")"
   ]
  },
  {
   "cell_type": "code",
   "execution_count": 13,
   "id": "236f6971",
   "metadata": {},
   "outputs": [
    {
     "name": "stdout",
     "output_type": "stream",
     "text": [
      "Benim ilk fonksiyonum.\n"
     ]
    }
   ],
   "source": [
    "ilkFonsiyon()"
   ]
  },
  {
   "cell_type": "markdown",
   "id": "6c875ec8",
   "metadata": {},
   "source": [
    "# input & return"
   ]
  },
  {
   "cell_type": "code",
   "execution_count": 25,
   "id": "4d626961",
   "metadata": {},
   "outputs": [],
   "source": [
    "def merhabaDunya(yazdirilacakIsim):\n",
    "    print(\"Merhaba Dünya, ben\", yazdirilacakIsim)"
   ]
  },
  {
   "cell_type": "code",
   "execution_count": 26,
   "id": "0f05f0ae",
   "metadata": {},
   "outputs": [
    {
     "name": "stdout",
     "output_type": "stream",
     "text": [
      "Merhaba Dünya, ben Burak\n"
     ]
    }
   ],
   "source": [
    "merhabaDunya(\"Burak\")"
   ]
  },
  {
   "cell_type": "code",
   "execution_count": 32,
   "id": "11465762",
   "metadata": {},
   "outputs": [],
   "source": [
    "def merhaba(isim=\"Burak\"):\n",
    "    print(\"Merhaba \", isim)\n"
   ]
  },
  {
   "cell_type": "raw",
   "id": "a9e4b80a",
   "metadata": {},
   "source": [
    "merhaba()"
   ]
  },
  {
   "cell_type": "code",
   "execution_count": 34,
   "id": "ae052c13",
   "metadata": {},
   "outputs": [
    {
     "name": "stdout",
     "output_type": "stream",
     "text": [
      "30\n"
     ]
    }
   ],
   "source": [
    "def toplama(numara1,numara2):\n",
    "    sonuc=numara1+numara2\n",
    "    print(sonuc)\n",
    "\n",
    "toplama(10,20)"
   ]
  },
  {
   "cell_type": "code",
   "execution_count": 35,
   "id": "f475ba33",
   "metadata": {},
   "outputs": [
    {
     "name": "stdout",
     "output_type": "stream",
     "text": [
      "200\n"
     ]
    }
   ],
   "source": [
    "toplama(-200,400)"
   ]
  },
  {
   "cell_type": "code",
   "execution_count": 41,
   "id": "d035a0b9",
   "metadata": {},
   "outputs": [],
   "source": [
    "def superToplama(num1,num2,num3):\n",
    "    print(num1+num2+num3)\n"
   ]
  },
  {
   "cell_type": "code",
   "execution_count": 42,
   "id": "4e7a9436",
   "metadata": {},
   "outputs": [
    {
     "name": "stdout",
     "output_type": "stream",
     "text": [
      "60\n"
     ]
    }
   ],
   "source": [
    "superToplama(10,20,30)"
   ]
  },
  {
   "cell_type": "code",
   "execution_count": 44,
   "id": "7a33256c",
   "metadata": {},
   "outputs": [
    {
     "name": "stdout",
     "output_type": "stream",
     "text": [
      "30\n"
     ]
    }
   ],
   "source": [
    "yeniDegisken = toplama(10,20)"
   ]
  },
  {
   "cell_type": "code",
   "execution_count": 46,
   "id": "271892be",
   "metadata": {},
   "outputs": [],
   "source": [
    "def yeniDondurmeliToplama(num1,num2):\n",
    "    return num1+num2"
   ]
  },
  {
   "cell_type": "code",
   "execution_count": 47,
   "id": "bf9a39aa",
   "metadata": {},
   "outputs": [],
   "source": [
    "x = yeniDondurmeliToplama(20,30)"
   ]
  },
  {
   "cell_type": "code",
   "execution_count": 48,
   "id": "0d4f5977",
   "metadata": {},
   "outputs": [
    {
     "data": {
      "text/plain": [
       "50"
      ]
     },
     "execution_count": 48,
     "metadata": {},
     "output_type": "execute_result"
    }
   ],
   "source": [
    "x"
   ]
  },
  {
   "cell_type": "code",
   "execution_count": 51,
   "id": "95023e83",
   "metadata": {},
   "outputs": [],
   "source": [
    "def kontrolFonksiyon(s):\n",
    "    if s == \"burak\":\n",
    "        print(\"doğru\")\n",
    "    else:\n",
    "        print(\"yanlış\")"
   ]
  },
  {
   "cell_type": "code",
   "execution_count": 52,
   "id": "a4efb27d",
   "metadata": {},
   "outputs": [
    {
     "name": "stdout",
     "output_type": "stream",
     "text": [
      "doğru\n"
     ]
    }
   ],
   "source": [
    "kontrolFonksiyon(\"burak\")"
   ]
  },
  {
   "cell_type": "code",
   "execution_count": 53,
   "id": "b95485de",
   "metadata": {},
   "outputs": [
    {
     "name": "stdout",
     "output_type": "stream",
     "text": [
      "yanlış\n"
     ]
    }
   ],
   "source": [
    "kontrolFonksiyon(\"sad\")"
   ]
  },
  {
   "cell_type": "markdown",
   "id": "336c3abc",
   "metadata": {},
   "source": [
    "# args & kwargs"
   ]
  },
  {
   "cell_type": "code",
   "execution_count": 54,
   "id": "d163967b",
   "metadata": {},
   "outputs": [],
   "source": [
    "def yeniToplama(*args):\n",
    "    return sum(args)"
   ]
  },
  {
   "cell_type": "code",
   "execution_count": 55,
   "id": "8f6a6357",
   "metadata": {},
   "outputs": [
    {
     "data": {
      "text/plain": [
       "219"
      ]
     },
     "execution_count": 55,
     "metadata": {},
     "output_type": "execute_result"
    }
   ],
   "source": [
    "yeniToplama(10,20,30,40,50,69)"
   ]
  },
  {
   "cell_type": "code",
   "execution_count": 56,
   "id": "2ce33bfb",
   "metadata": {},
   "outputs": [
    {
     "data": {
      "text/plain": [
       "7"
      ]
     },
     "execution_count": 56,
     "metadata": {},
     "output_type": "execute_result"
    }
   ],
   "source": [
    "yeniToplama(10,-3)"
   ]
  },
  {
   "cell_type": "code",
   "execution_count": 62,
   "id": "71f11d55",
   "metadata": {},
   "outputs": [],
   "source": [
    "def benimFonksiyonum(*args):\n",
    "    return args"
   ]
  },
  {
   "cell_type": "code",
   "execution_count": 63,
   "id": "ec2d2e67",
   "metadata": {},
   "outputs": [
    {
     "data": {
      "text/plain": [
       "tuple"
      ]
     },
     "execution_count": 63,
     "metadata": {},
     "output_type": "execute_result"
    }
   ],
   "source": [
    "type(benimFonksiyonum(20,30,40))"
   ]
  },
  {
   "cell_type": "code",
   "execution_count": 69,
   "id": "d0d67156",
   "metadata": {},
   "outputs": [],
   "source": [
    "def ornekFonksiyon(**kwargs):\n",
    "    return(kwargs)"
   ]
  },
  {
   "cell_type": "code",
   "execution_count": 70,
   "id": "34e92433",
   "metadata": {},
   "outputs": [
    {
     "data": {
      "text/plain": [
       "dict"
      ]
     },
     "execution_count": 70,
     "metadata": {},
     "output_type": "execute_result"
    }
   ],
   "source": [
    "type(ornekFonksiyon(muz=100,elma=200,anannas=300))"
   ]
  },
  {
   "cell_type": "code",
   "execution_count": 75,
   "id": "84ce9295",
   "metadata": {},
   "outputs": [],
   "source": [
    "def keyWordKontrolu(**kwargs):\n",
    "    if \"atıl\" in kwargs:\n",
    "        print(\"var\")\n",
    "    else:\n",
    "        print(\"yok\")"
   ]
  },
  {
   "cell_type": "code",
   "execution_count": 76,
   "id": "9ff4d835",
   "metadata": {},
   "outputs": [
    {
     "ename": "SyntaxError",
     "evalue": "invalid syntax (Temp/ipykernel_13108/4130817100.py, line 1)",
     "output_type": "error",
     "traceback": [
      "\u001b[1;36m  File \u001b[1;32m\"C:\\Users\\burak\\AppData\\Local\\Temp/ipykernel_13108/4130817100.py\"\u001b[1;36m, line \u001b[1;32m1\u001b[0m\n\u001b[1;33m    keyWordKontrolu= (atıl = 70,mehmet = 10)\u001b[0m\n\u001b[1;37m                           ^\u001b[0m\n\u001b[1;31mSyntaxError\u001b[0m\u001b[1;31m:\u001b[0m invalid syntax\n"
     ]
    }
   ],
   "source": [
    "keyWordKontrolu= (atıl = 70,mehmet = 10)"
   ]
  },
  {
   "cell_type": "code",
   "execution_count": null,
   "id": "ced79e72",
   "metadata": {},
   "outputs": [],
   "source": []
  }
 ],
 "metadata": {
  "kernelspec": {
   "display_name": "Python 3 (ipykernel)",
   "language": "python",
   "name": "python3"
  },
  "language_info": {
   "codemirror_mode": {
    "name": "ipython",
    "version": 3
   },
   "file_extension": ".py",
   "mimetype": "text/x-python",
   "name": "python",
   "nbconvert_exporter": "python",
   "pygments_lexer": "ipython3",
   "version": "3.9.7"
  }
 },
 "nbformat": 4,
 "nbformat_minor": 5
}
