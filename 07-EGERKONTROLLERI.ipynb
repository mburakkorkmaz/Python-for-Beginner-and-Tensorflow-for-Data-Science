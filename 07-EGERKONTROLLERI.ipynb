{
 "cells": [
  {
   "cell_type": "code",
   "execution_count": 1,
   "id": "417c230b",
   "metadata": {},
   "outputs": [
    {
     "data": {
      "text/plain": [
       "True"
      ]
     },
     "execution_count": 1,
     "metadata": {},
     "output_type": "execute_result"
    }
   ],
   "source": [
    "3 > 1 "
   ]
  },
  {
   "cell_type": "code",
   "execution_count": 12,
   "id": "72e3088f",
   "metadata": {},
   "outputs": [
    {
     "name": "stdout",
     "output_type": "stream",
     "text": [
      "İf Koşunun Dışına Çıktık. Dikkatli Olunuz.\n"
     ]
    }
   ],
   "source": [
    "if 3 > 4:\n",
    "    print(\"Burak Korkmaz\")\n",
    "    print(\"İf Koşulu Sağlandı !\")\n",
    "print(\"İf Koşunun Dışına Çıktık. Dikkatli Olunuz.\")"
   ]
  },
  {
   "cell_type": "code",
   "execution_count": 21,
   "id": "d9ebffab",
   "metadata": {},
   "outputs": [],
   "source": [
    "x = 4 \n",
    "y = 4"
   ]
  },
  {
   "cell_type": "code",
   "execution_count": 25,
   "id": "03ac45ce",
   "metadata": {},
   "outputs": [
    {
     "name": "stdout",
     "output_type": "stream",
     "text": [
      "x, y değerine EŞİTTİR.\n"
     ]
    }
   ],
   "source": [
    "if x > y:\n",
    "    print(\"x, y değerinden BÜYÜKTÜR.\")\n",
    "elif y > x:\n",
    "    print(\"y, x değerinden BÜYÜKTÜR\")\n",
    "else:\n",
    "    print(\"x, y değerine EŞİTTİR.\")"
   ]
  },
  {
   "cell_type": "code",
   "execution_count": 37,
   "id": "ed242d05",
   "metadata": {},
   "outputs": [
    {
     "name": "stdout",
     "output_type": "stream",
     "text": [
      "Süper Kahraman Seçiniz: sad\n"
     ]
    }
   ],
   "source": [
    "benimKahramanım = input(\"Süper Kahraman Seçiniz: \")"
   ]
  },
  {
   "cell_type": "code",
   "execution_count": 38,
   "id": "c899f59c",
   "metadata": {},
   "outputs": [
    {
     "name": "stdout",
     "output_type": "stream",
     "text": [
      "Bu kim Bilmiyoruz.\n"
     ]
    }
   ],
   "source": [
    "if benimKahramanım == \"Batman\":\n",
    "    print(\"Batman'i seçtiniz.\")\n",
    "elif benimKahramanım == \"Süperman\":\n",
    "    print(\"Keşke Batman seçseydiniz.\")\n",
    "elif benimKahramanım == \"İronman\":\n",
    "    print(\"Kahraman İronMan\")\n",
    "else:\n",
    "    print(\"Bu kim Bilmiyoruz.\")"
   ]
  },
  {
   "cell_type": "code",
   "execution_count": 49,
   "id": "23cecf24",
   "metadata": {},
   "outputs": [],
   "source": [
    "a = 10 \n",
    "b = 20 \n",
    "c = 20 "
   ]
  },
  {
   "cell_type": "code",
   "execution_count": 50,
   "id": "10187981",
   "metadata": {},
   "outputs": [
    {
     "name": "stdout",
     "output_type": "stream",
     "text": [
      "C\n"
     ]
    }
   ],
   "source": [
    "if a > b and b > x:\n",
    "    print(\"A\")\n",
    "elif a < b and b < c:\n",
    "    print(\"B\")\n",
    "else:\n",
    "    print(\"C\")"
   ]
  },
  {
   "cell_type": "code",
   "execution_count": 51,
   "id": "29c0be19",
   "metadata": {},
   "outputs": [],
   "source": [
    "m = 10 \n",
    "k = 4 \n",
    "l = 1"
   ]
  },
  {
   "cell_type": "code",
   "execution_count": 52,
   "id": "fec47635",
   "metadata": {},
   "outputs": [
    {
     "name": "stdout",
     "output_type": "stream",
     "text": [
      "Çalışır.\n"
     ]
    }
   ],
   "source": [
    "if m>k or k>1:\n",
    "    print(\"Çalışır.\")"
   ]
  },
  {
   "cell_type": "code",
   "execution_count": 55,
   "id": "2830e3ee",
   "metadata": {},
   "outputs": [],
   "source": [
    "karakterCanlı = True"
   ]
  },
  {
   "cell_type": "code",
   "execution_count": 56,
   "id": "dda3230f",
   "metadata": {},
   "outputs": [
    {
     "name": "stdout",
     "output_type": "stream",
     "text": [
      "Yaşıyor.\n"
     ]
    }
   ],
   "source": [
    "if karakterCanlı == True:\n",
    "    print(\"Yaşıyor.\")\n",
    "else:\n",
    "    print(\"Yaşamıyor.\")"
   ]
  },
  {
   "cell_type": "code",
   "execution_count": 57,
   "id": "03000fd1",
   "metadata": {},
   "outputs": [
    {
     "name": "stdout",
     "output_type": "stream",
     "text": [
      "Yaşıyor.\n"
     ]
    }
   ],
   "source": [
    "if karakterCanlı:\n",
    "    print(\"Yaşıyor.\")\n",
    "else:\n",
    "    print(\"Yaşamıyor.\")"
   ]
  },
  {
   "cell_type": "code",
   "execution_count": 61,
   "id": "7839ce66",
   "metadata": {},
   "outputs": [],
   "source": [
    "benimString = \"Burak Korkmaz\""
   ]
  },
  {
   "cell_type": "code",
   "execution_count": 62,
   "id": "2c449b55",
   "metadata": {},
   "outputs": [
    {
     "name": "stdout",
     "output_type": "stream",
     "text": [
      "eşit değil\n"
     ]
    }
   ],
   "source": [
    "if benimString == \"burak korkmaz\":\n",
    "    print(\"eşit\")\n",
    "else:\n",
    "    print(\"eşit değil\")"
   ]
  },
  {
   "cell_type": "code",
   "execution_count": 64,
   "id": "611c083d",
   "metadata": {},
   "outputs": [
    {
     "name": "stdout",
     "output_type": "stream",
     "text": [
      "var\n"
     ]
    }
   ],
   "source": [
    "if \"orkmaz\" in benimString:\n",
    "    print(\"var\")\n",
    "else: \n",
    "    print(\"yok\")"
   ]
  },
  {
   "cell_type": "code",
   "execution_count": 68,
   "id": "664a7eed",
   "metadata": {},
   "outputs": [],
   "source": [
    "benimListem = [10,20,30,40]"
   ]
  },
  {
   "cell_type": "code",
   "execution_count": 70,
   "id": "3af7fa41",
   "metadata": {},
   "outputs": [
    {
     "name": "stdout",
     "output_type": "stream",
     "text": [
      "yok\n"
     ]
    }
   ],
   "source": [
    "if 60 in benimListem:\n",
    "    print(\"var\")\n",
    "else: \n",
    "    print(\"yok\")"
   ]
  },
  {
   "cell_type": "code",
   "execution_count": 71,
   "id": "4db54f5c",
   "metadata": {},
   "outputs": [],
   "source": [
    "benimSozluk = {\"muz\":100, \"elma\":200,\"karpuz\":300}"
   ]
  },
  {
   "cell_type": "code",
   "execution_count": 75,
   "id": "df1fc268",
   "metadata": {},
   "outputs": [
    {
     "name": "stdout",
     "output_type": "stream",
     "text": [
      "var\n"
     ]
    }
   ],
   "source": [
    "if \"muz\" in benimSozluk.keys():\n",
    "    print(\"var\")"
   ]
  },
  {
   "cell_type": "code",
   "execution_count": 76,
   "id": "cf0a74bc",
   "metadata": {},
   "outputs": [
    {
     "name": "stdout",
     "output_type": "stream",
     "text": [
      "var\n"
     ]
    }
   ],
   "source": [
    "if 100 in benimSozluk.values():\n",
    "    print(\"var\")\n",
    "    "
   ]
  },
  {
   "cell_type": "code",
   "execution_count": 77,
   "id": "12a72879",
   "metadata": {},
   "outputs": [
    {
     "name": "stdout",
     "output_type": "stream",
     "text": [
      "b is greater than a\n"
     ]
    }
   ],
   "source": [
    "a = 33\n",
    "b = 200\n",
    "if b > a:\n",
    "  print(\"b is greater than a\")"
   ]
  },
  {
   "cell_type": "code",
   "execution_count": 78,
   "id": "cbd49b3b",
   "metadata": {},
   "outputs": [
    {
     "name": "stdout",
     "output_type": "stream",
     "text": [
      "a and b are equal\n"
     ]
    }
   ],
   "source": [
    "a = 33\n",
    "b = 33\n",
    "if b > a:\n",
    "  print(\"b is greater than a\")\n",
    "elif a == b:\n",
    "  print(\"a and b are equal\")"
   ]
  },
  {
   "cell_type": "code",
   "execution_count": null,
   "id": "7dcc37f8",
   "metadata": {},
   "outputs": [],
   "source": []
  }
 ],
 "metadata": {
  "kernelspec": {
   "display_name": "Python 3 (ipykernel)",
   "language": "python",
   "name": "python3"
  },
  "language_info": {
   "codemirror_mode": {
    "name": "ipython",
    "version": 3
   },
   "file_extension": ".py",
   "mimetype": "text/x-python",
   "name": "python",
   "nbconvert_exporter": "python",
   "pygments_lexer": "ipython3",
   "version": "3.9.7"
  }
 },
 "nbformat": 4,
 "nbformat_minor": 5
}
