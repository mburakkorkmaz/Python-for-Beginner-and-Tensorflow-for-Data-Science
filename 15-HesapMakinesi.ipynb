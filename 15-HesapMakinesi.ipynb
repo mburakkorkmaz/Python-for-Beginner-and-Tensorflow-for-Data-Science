{
 "cells": [
  {
   "cell_type": "code",
   "execution_count": null,
   "id": "5565e4e2",
   "metadata": {},
   "outputs": [
    {
     "name": "stdout",
     "output_type": "stream",
     "text": [
      "İlk Sayıyı Giriniz: a\n",
      "Lütfen Sayıları Doğru Giriniz!\n",
      "İlk Sayıyı Giriniz: a\n",
      "Lütfen Sayıları Doğru Giriniz!\n",
      "İlk Sayıyı Giriniz: 20\n",
      "İlk Sayıyı Giriniz: a\n",
      "Lütfen Sayıları Doğru Giriniz!\n",
      "İlk Sayıyı Giriniz: 10\n",
      "İlk Sayıyı Giriniz: 20\n",
      "İşleminizi Seçiniz: +,-,*,/ a\n",
      "Lütfen + - * / işlemlerinden birini seçiniz!\n",
      "Lütfen Sayıları Doğru Giriniz!\n"
     ]
    }
   ],
   "source": [
    "def hesapla(a,b,islem):\n",
    "    if islem not in \"+-*/\":\n",
    "        return \"Lütfen + - * / işlemlerinden birini seçiniz!\"\n",
    "    elif islem == \"+\":\n",
    "        return (str(a)+\" + \"+str(b)+\" = \"+ str(a+b))\n",
    "    elif islem == \"-\":\n",
    "        return (str(a)+\" - \"+str(b)+\" = \"+ str(a-b))\n",
    "    elif islem == \"*\":\n",
    "        return (str(a)+\" * \"+str(b)+\" = \"+ str(a*b))\n",
    "    elif islem == \"/\":\n",
    "        return (str(a)+\" / \"+str(b)+\" = \"+ str(a/b))\n",
    "while True:\n",
    "    try:\n",
    "        a = int(input(\"İlk Sayıyı Giriniz: \"))\n",
    "        b = int(input(\"İlk Sayıyı Giriniz: \"))\n",
    "        islem = input(\"İşleminizi Seçiniz: +,-,*,/ \")\n",
    "        print(hesapla(a,b,islem))\n",
    "    except:\n",
    "        print(\"Lütfen Sayıları Doğru Giriniz!\")"
   ]
  },
  {
   "cell_type": "code",
   "execution_count": null,
   "id": "464816f4",
   "metadata": {},
   "outputs": [],
   "source": []
  }
 ],
 "metadata": {
  "kernelspec": {
   "display_name": "Python 3 (ipykernel)",
   "language": "python",
   "name": "python3"
  },
  "language_info": {
   "codemirror_mode": {
    "name": "ipython",
    "version": 3
   },
   "file_extension": ".py",
   "mimetype": "text/x-python",
   "name": "python",
   "nbconvert_exporter": "python",
   "pygments_lexer": "ipython3",
   "version": "3.9.7"
  }
 },
 "nbformat": 4,
 "nbformat_minor": 5
}
