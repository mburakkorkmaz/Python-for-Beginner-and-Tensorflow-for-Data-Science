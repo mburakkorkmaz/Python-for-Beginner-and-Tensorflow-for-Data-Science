{
 "cells": [
  {
   "cell_type": "markdown",
   "id": "19b5040c",
   "metadata": {},
   "source": [
    "## Variables (Degiskenler)"
   ]
  },
  {
   "cell_type": "code",
   "execution_count": 10,
   "id": "440d8fc2",
   "metadata": {},
   "outputs": [],
   "source": [
    "x = 5 "
   ]
  },
  {
   "cell_type": "code",
   "execution_count": 11,
   "id": "20506e39",
   "metadata": {},
   "outputs": [],
   "source": [
    "y = 4"
   ]
  },
  {
   "cell_type": "code",
   "execution_count": 17,
   "id": "3ce8c2cb",
   "metadata": {},
   "outputs": [
    {
     "data": {
      "text/plain": [
       "24"
      ]
     },
     "execution_count": 17,
     "metadata": {},
     "output_type": "execute_result"
    }
   ],
   "source": [
    "x*y"
   ]
  },
  {
   "cell_type": "code",
   "execution_count": 18,
   "id": "d68c1531",
   "metadata": {},
   "outputs": [
    {
     "data": {
      "text/plain": [
       "6"
      ]
     },
     "execution_count": 18,
     "metadata": {},
     "output_type": "execute_result"
    }
   ],
   "source": [
    "x"
   ]
  },
  {
   "cell_type": "code",
   "execution_count": 19,
   "id": "f5d25330",
   "metadata": {},
   "outputs": [],
   "source": [
    "x = 6 "
   ]
  },
  {
   "cell_type": "code",
   "execution_count": 20,
   "id": "1782f4f2",
   "metadata": {},
   "outputs": [
    {
     "data": {
      "text/plain": [
       "6"
      ]
     },
     "execution_count": 20,
     "metadata": {},
     "output_type": "execute_result"
    }
   ],
   "source": [
    "x"
   ]
  },
  {
   "cell_type": "code",
   "execution_count": 21,
   "id": "0505c9cb",
   "metadata": {},
   "outputs": [
    {
     "data": {
      "text/plain": [
       "24"
      ]
     },
     "execution_count": 21,
     "metadata": {},
     "output_type": "execute_result"
    }
   ],
   "source": [
    "x*y"
   ]
  },
  {
   "cell_type": "markdown",
   "id": "6ccf1cfb",
   "metadata": {},
   "source": [
    "## INTEGER & FLOAT"
   ]
  },
  {
   "cell_type": "code",
   "execution_count": 22,
   "id": "c729ab15",
   "metadata": {},
   "outputs": [],
   "source": [
    "benimdegiskenim = 10 \n",
    "benimdigerdegiskenim = 20"
   ]
  },
  {
   "cell_type": "code",
   "execution_count": 23,
   "id": "a0f835b4",
   "metadata": {},
   "outputs": [
    {
     "data": {
      "text/plain": [
       "30"
      ]
     },
     "execution_count": 23,
     "metadata": {},
     "output_type": "execute_result"
    }
   ],
   "source": [
    "benimdegiskenim + benimdigerdegiskenim"
   ]
  },
  {
   "cell_type": "code",
   "execution_count": 24,
   "id": "6b13274d",
   "metadata": {},
   "outputs": [
    {
     "data": {
      "text/plain": [
       "int"
      ]
     },
     "execution_count": 24,
     "metadata": {},
     "output_type": "execute_result"
    }
   ],
   "source": [
    "type(30)"
   ]
  },
  {
   "cell_type": "markdown",
   "id": "9a5822aa",
   "metadata": {},
   "source": [
    "Integer = Tam sayı anlamına gelir, (int) ile gösterilir. "
   ]
  },
  {
   "cell_type": "code",
   "execution_count": 25,
   "id": "b973497e",
   "metadata": {},
   "outputs": [
    {
     "data": {
      "text/plain": [
       "int"
      ]
     },
     "execution_count": 25,
     "metadata": {},
     "output_type": "execute_result"
    }
   ],
   "source": [
    "type(benimdegiskenim"
   ]
  },
  {
   "cell_type": "code",
   "execution_count": 28,
   "id": "e26da840",
   "metadata": {},
   "outputs": [],
   "source": [
    "sonuc = benimdigerdegiskenim / benimdegiskenim "
   ]
  },
  {
   "cell_type": "code",
   "execution_count": 29,
   "id": "1d39c3da",
   "metadata": {},
   "outputs": [
    {
     "data": {
      "text/plain": [
       "2.0"
      ]
     },
     "execution_count": 29,
     "metadata": {},
     "output_type": "execute_result"
    }
   ],
   "source": [
    "sonuc"
   ]
  },
  {
   "cell_type": "code",
   "execution_count": 30,
   "id": "0e2df0a5",
   "metadata": {},
   "outputs": [
    {
     "data": {
      "text/plain": [
       "float"
      ]
     },
     "execution_count": 30,
     "metadata": {},
     "output_type": "execute_result"
    }
   ],
   "source": [
    "type(sonuc)"
   ]
  },
  {
   "cell_type": "code",
   "execution_count": 32,
   "id": "8385a677",
   "metadata": {},
   "outputs": [
    {
     "data": {
      "text/plain": [
       "1.5"
      ]
     },
     "execution_count": 32,
     "metadata": {},
     "output_type": "execute_result"
    }
   ],
   "source": [
    "X =3\n",
    "B = 2\n",
    "X/B"
   ]
  },
  {
   "cell_type": "markdown",
   "id": "cfccf19e",
   "metadata": {},
   "source": [
    "Her programlama dilinde int/int float vermez ancak python her zaman float cinsinden veri çıkışı oluşturur. "
   ]
  },
  {
   "cell_type": "code",
   "execution_count": 34,
   "id": "117d3271",
   "metadata": {},
   "outputs": [],
   "source": [
    "pi = 3.14"
   ]
  },
  {
   "cell_type": "code",
   "execution_count": 35,
   "id": "82718b37",
   "metadata": {},
   "outputs": [
    {
     "data": {
      "text/plain": [
       "float"
      ]
     },
     "execution_count": 35,
     "metadata": {},
     "output_type": "execute_result"
    }
   ],
   "source": [
    "type(pi)"
   ]
  },
  {
   "cell_type": "code",
   "execution_count": 36,
   "id": "aee90e4b",
   "metadata": {},
   "outputs": [
    {
     "data": {
      "text/plain": [
       "int"
      ]
     },
     "execution_count": 36,
     "metadata": {},
     "output_type": "execute_result"
    }
   ],
   "source": [
    "a = 5 \n",
    "type(a)"
   ]
  },
  {
   "cell_type": "code",
   "execution_count": 37,
   "id": "6a7f6d03",
   "metadata": {},
   "outputs": [
    {
     "data": {
      "text/plain": [
       "8.14"
      ]
     },
     "execution_count": 37,
     "metadata": {},
     "output_type": "execute_result"
    }
   ],
   "source": [
    "a + pi"
   ]
  },
  {
   "cell_type": "code",
   "execution_count": 38,
   "id": "7e5e75e3",
   "metadata": {},
   "outputs": [
    {
     "data": {
      "text/plain": [
       "15.700000000000001"
      ]
     },
     "execution_count": 38,
     "metadata": {},
     "output_type": "execute_result"
    }
   ],
   "source": [
    "a * pi"
   ]
  },
  {
   "cell_type": "code",
   "execution_count": 40,
   "id": "1112cdcf",
   "metadata": {},
   "outputs": [
    {
     "data": {
      "text/plain": [
       "1.592356687898089"
      ]
     },
     "execution_count": 40,
     "metadata": {},
     "output_type": "execute_result"
    }
   ],
   "source": [
    "a/pi"
   ]
  },
  {
   "cell_type": "code",
   "execution_count": 41,
   "id": "0e9a11ba",
   "metadata": {},
   "outputs": [],
   "source": [
    "a = 5"
   ]
  },
  {
   "cell_type": "code",
   "execution_count": 42,
   "id": "aebe2359",
   "metadata": {},
   "outputs": [],
   "source": [
    "b = 4 "
   ]
  },
  {
   "cell_type": "code",
   "execution_count": 44,
   "id": "e2f5a81e",
   "metadata": {},
   "outputs": [],
   "source": [
    "sonuc=a+b"
   ]
  },
  {
   "cell_type": "code",
   "execution_count": 46,
   "id": "22472b55",
   "metadata": {},
   "outputs": [
    {
     "data": {
      "text/plain": [
       "int"
      ]
     },
     "execution_count": 46,
     "metadata": {},
     "output_type": "execute_result"
    }
   ],
   "source": [
    "type(sonuc)"
   ]
  },
  {
   "cell_type": "markdown",
   "id": "4d4b341d",
   "metadata": {},
   "source": [
    "## Matematiksel İslemler"
   ]
  },
  {
   "cell_type": "code",
   "execution_count": 47,
   "id": "17cfad35",
   "metadata": {},
   "outputs": [],
   "source": [
    "x = 5 "
   ]
  },
  {
   "cell_type": "code",
   "execution_count": 48,
   "id": "3669c6ed",
   "metadata": {},
   "outputs": [],
   "source": [
    "y = 3"
   ]
  },
  {
   "cell_type": "code",
   "execution_count": 49,
   "id": "b9ed2a5c",
   "metadata": {},
   "outputs": [
    {
     "data": {
      "text/plain": [
       "150"
      ]
     },
     "execution_count": 49,
     "metadata": {},
     "output_type": "execute_result"
    }
   ],
   "source": [
    "x*y*10"
   ]
  },
  {
   "cell_type": "code",
   "execution_count": 53,
   "id": "aa48e03c",
   "metadata": {},
   "outputs": [
    {
     "data": {
      "text/plain": [
       "625"
      ]
     },
     "execution_count": 53,
     "metadata": {},
     "output_type": "execute_result"
    }
   ],
   "source": [
    "x * x * x * x"
   ]
  },
  {
   "cell_type": "code",
   "execution_count": 56,
   "id": "08dc839f",
   "metadata": {},
   "outputs": [
    {
     "data": {
      "text/plain": [
       "625"
      ]
     },
     "execution_count": 56,
     "metadata": {},
     "output_type": "execute_result"
    }
   ],
   "source": [
    "x**4"
   ]
  },
  {
   "cell_type": "code",
   "execution_count": 58,
   "id": "1069d2f4",
   "metadata": {},
   "outputs": [
    {
     "data": {
      "text/plain": [
       "1"
      ]
     },
     "execution_count": 58,
     "metadata": {},
     "output_type": "execute_result"
    }
   ],
   "source": [
    "# Remainder ( Bolum kalanını bulmak...)\n",
    "10 % 2"
   ]
  },
  {
   "cell_type": "code",
   "execution_count": 59,
   "id": "4ecfbaf9",
   "metadata": {},
   "outputs": [
    {
     "data": {
      "text/plain": [
       "1"
      ]
     },
     "execution_count": 59,
     "metadata": {},
     "output_type": "execute_result"
    }
   ],
   "source": [
    "11 % 2"
   ]
  },
  {
   "cell_type": "code",
   "execution_count": 62,
   "id": "34d50ea2",
   "metadata": {},
   "outputs": [],
   "source": [
    "## camelCase +++\n",
    "## snake_case ++"
   ]
  },
  {
   "cell_type": "code",
   "execution_count": 65,
   "id": "f172ff56",
   "metadata": {},
   "outputs": [
    {
     "name": "stdout",
     "output_type": "stream",
     "text": [
      "Yasinizi Giriniz: 25\n"
     ]
    }
   ],
   "source": [
    "# Kullanicidan input almak...\n",
    "\n",
    "kullanicininYasi = input(\"Yasinizi Giriniz: \")"
   ]
  },
  {
   "cell_type": "code",
   "execution_count": 66,
   "id": "69967b74",
   "metadata": {},
   "outputs": [
    {
     "data": {
      "text/plain": [
       "'25'"
      ]
     },
     "execution_count": 66,
     "metadata": {},
     "output_type": "execute_result"
    }
   ],
   "source": [
    "kullanicininYasi"
   ]
  },
  {
   "cell_type": "code",
   "execution_count": 67,
   "id": "97a06293",
   "metadata": {},
   "outputs": [
    {
     "data": {
      "text/plain": [
       "str"
      ]
     },
     "execution_count": 67,
     "metadata": {},
     "output_type": "execute_result"
    }
   ],
   "source": [
    "type(kullanicininYasi)"
   ]
  },
  {
   "cell_type": "code",
   "execution_count": 68,
   "id": "87de5d36",
   "metadata": {},
   "outputs": [
    {
     "data": {
      "text/plain": [
       "'2525252525'"
      ]
     },
     "execution_count": 68,
     "metadata": {},
     "output_type": "execute_result"
    }
   ],
   "source": [
    "kullanicininYasi * 5 "
   ]
  },
  {
   "cell_type": "markdown",
   "id": "8373fd76",
   "metadata": {},
   "source": [
    "## STRING "
   ]
  },
  {
   "cell_type": "code",
   "execution_count": 69,
   "id": "5977dd0c",
   "metadata": {},
   "outputs": [
    {
     "data": {
      "text/plain": [
       "'MERHABA DÜNYA'"
      ]
     },
     "execution_count": 69,
     "metadata": {},
     "output_type": "execute_result"
    }
   ],
   "source": [
    "\"MERHABA DÜNYA\""
   ]
  },
  {
   "cell_type": "code",
   "execution_count": 73,
   "id": "f449995f",
   "metadata": {},
   "outputs": [],
   "source": [
    "x = \"MERHABA DÜNYA\"\n",
    "# Diğer diller int değişkeni olarak atanmış değişkene string atama \n",
    "# yapılamaz ancak Python buna olanak verir. "
   ]
  },
  {
   "cell_type": "code",
   "execution_count": 74,
   "id": "a1e07c83",
   "metadata": {},
   "outputs": [
    {
     "data": {
      "text/plain": [
       "str"
      ]
     },
     "execution_count": 74,
     "metadata": {},
     "output_type": "execute_result"
    }
   ],
   "source": [
    "type(x)"
   ]
  },
  {
   "cell_type": "code",
   "execution_count": 75,
   "id": "2c49cea7",
   "metadata": {},
   "outputs": [],
   "source": [
    "y = 'yeni string'"
   ]
  },
  {
   "cell_type": "code",
   "execution_count": 76,
   "id": "711c7aa2",
   "metadata": {},
   "outputs": [
    {
     "data": {
      "text/plain": [
       "str"
      ]
     },
     "execution_count": 76,
     "metadata": {},
     "output_type": "execute_result"
    }
   ],
   "source": [
    "type(y)"
   ]
  },
  {
   "cell_type": "code",
   "execution_count": 80,
   "id": "ca788f2d",
   "metadata": {},
   "outputs": [],
   "source": [
    "a = 5 "
   ]
  },
  {
   "cell_type": "code",
   "execution_count": 82,
   "id": "a2c3a235",
   "metadata": {},
   "outputs": [
    {
     "data": {
      "text/plain": [
       "'Yeni string'"
      ]
     },
     "execution_count": 82,
     "metadata": {},
     "output_type": "execute_result"
    }
   ],
   "source": [
    "y.capitalize()"
   ]
  },
  {
   "cell_type": "code",
   "execution_count": 83,
   "id": "ebae1de9",
   "metadata": {},
   "outputs": [
    {
     "data": {
      "text/plain": [
       "['yeni', 'string']"
      ]
     },
     "execution_count": 83,
     "metadata": {},
     "output_type": "execute_result"
    }
   ],
   "source": [
    "y.split()"
   ]
  },
  {
   "cell_type": "code",
   "execution_count": 84,
   "id": "25783741",
   "metadata": {},
   "outputs": [
    {
     "name": "stdout",
     "output_type": "stream",
     "text": [
      "Yasınızı Giriniz: 25\n"
     ]
    },
    {
     "data": {
      "text/plain": [
       "125"
      ]
     },
     "execution_count": 84,
     "metadata": {},
     "output_type": "execute_result"
    }
   ],
   "source": [
    "benimInput = int(input(\"Yasınızı Giriniz: \"))\n",
    "benimInput * 5"
   ]
  },
  {
   "cell_type": "code",
   "execution_count": 87,
   "id": "a0237be9",
   "metadata": {},
   "outputs": [],
   "source": [
    "k = \"Muhammed Burak Korkmaz\""
   ]
  },
  {
   "cell_type": "code",
   "execution_count": 88,
   "id": "5b11d36f",
   "metadata": {},
   "outputs": [
    {
     "data": {
      "text/plain": [
       "22"
      ]
     },
     "execution_count": 88,
     "metadata": {},
     "output_type": "execute_result"
    }
   ],
   "source": [
    "len(k)"
   ]
  },
  {
   "cell_type": "code",
   "execution_count": 91,
   "id": "ff21db05",
   "metadata": {},
   "outputs": [
    {
     "name": "stdout",
     "output_type": "stream",
     "text": [
      "Merhaba Burak \n",
      "Korkmaz,\n"
     ]
    }
   ],
   "source": [
    "print(\"Merhaba Burak \\nKorkmaz,\")"
   ]
  },
  {
   "cell_type": "code",
   "execution_count": 92,
   "id": "5cd1b827",
   "metadata": {},
   "outputs": [],
   "source": [
    "isimString = \"Muhammed Burak Korkmaz\""
   ]
  },
  {
   "cell_type": "code",
   "execution_count": 93,
   "id": "a13157b5",
   "metadata": {},
   "outputs": [
    {
     "data": {
      "text/plain": [
       "'Muhammed Burak Korkmaz'"
      ]
     },
     "execution_count": 93,
     "metadata": {},
     "output_type": "execute_result"
    }
   ],
   "source": [
    "isimString"
   ]
  },
  {
   "cell_type": "markdown",
   "id": "9e9d5f1d",
   "metadata": {},
   "source": [
    "## İndexleme"
   ]
  },
  {
   "cell_type": "code",
   "execution_count": 95,
   "id": "80499928",
   "metadata": {},
   "outputs": [
    {
     "data": {
      "text/plain": [
       "'M'"
      ]
     },
     "execution_count": 95,
     "metadata": {},
     "output_type": "execute_result"
    }
   ],
   "source": [
    "isimString[0]"
   ]
  },
  {
   "cell_type": "code",
   "execution_count": 96,
   "id": "1ea63903",
   "metadata": {},
   "outputs": [
    {
     "data": {
      "text/plain": [
       "'B'"
      ]
     },
     "execution_count": 96,
     "metadata": {},
     "output_type": "execute_result"
    }
   ],
   "source": [
    "isimString[9]"
   ]
  },
  {
   "cell_type": "code",
   "execution_count": 97,
   "id": "341f2a8b",
   "metadata": {},
   "outputs": [
    {
     "data": {
      "text/plain": [
       "' '"
      ]
     },
     "execution_count": 97,
     "metadata": {},
     "output_type": "execute_result"
    }
   ],
   "source": [
    "isimString[8]"
   ]
  },
  {
   "cell_type": "code",
   "execution_count": 98,
   "id": "6e954a76",
   "metadata": {},
   "outputs": [
    {
     "data": {
      "text/plain": [
       "'z'"
      ]
     },
     "execution_count": 98,
     "metadata": {},
     "output_type": "execute_result"
    }
   ],
   "source": [
    "isimString[-1]"
   ]
  },
  {
   "cell_type": "code",
   "execution_count": 99,
   "id": "4efd7ed7",
   "metadata": {},
   "outputs": [
    {
     "data": {
      "text/plain": [
       "'Mz'"
      ]
     },
     "execution_count": 99,
     "metadata": {},
     "output_type": "execute_result"
    }
   ],
   "source": [
    "isimString[0] + isimString[-1]"
   ]
  },
  {
   "cell_type": "code",
   "execution_count": 100,
   "id": "80e15657",
   "metadata": {},
   "outputs": [],
   "source": [
    "yeniString = \"0123456789\""
   ]
  },
  {
   "cell_type": "code",
   "execution_count": 101,
   "id": "2d36e176",
   "metadata": {},
   "outputs": [
    {
     "data": {
      "text/plain": [
       "str"
      ]
     },
     "execution_count": 101,
     "metadata": {},
     "output_type": "execute_result"
    }
   ],
   "source": [
    "type(yeniString)"
   ]
  },
  {
   "cell_type": "code",
   "execution_count": 102,
   "id": "98e9f658",
   "metadata": {},
   "outputs": [
    {
     "data": {
      "text/plain": [
       "'23456789'"
      ]
     },
     "execution_count": 102,
     "metadata": {},
     "output_type": "execute_result"
    }
   ],
   "source": [
    "yeniString[2:]"
   ]
  },
  {
   "cell_type": "code",
   "execution_count": 105,
   "id": "d6ffe5d9",
   "metadata": {},
   "outputs": [
    {
     "data": {
      "text/plain": [
       "'3456'"
      ]
     },
     "execution_count": 105,
     "metadata": {},
     "output_type": "execute_result"
    }
   ],
   "source": [
    "yeniString[3:7]"
   ]
  },
  {
   "cell_type": "markdown",
   "id": "26511a4b",
   "metadata": {},
   "source": [
    "## SILICING"
   ]
  },
  {
   "cell_type": "code",
   "execution_count": 9,
   "id": "2b4dcad2",
   "metadata": {},
   "outputs": [],
   "source": [
    "gelenVeri = \"AhmetinYasi25\""
   ]
  },
  {
   "cell_type": "code",
   "execution_count": 10,
   "id": "fbef6edf",
   "metadata": {},
   "outputs": [
    {
     "data": {
      "text/plain": [
       "'me'"
      ]
     },
     "execution_count": 10,
     "metadata": {},
     "output_type": "execute_result"
    }
   ],
   "source": [
    "gelenVeri[2:4]"
   ]
  },
  {
   "cell_type": "code",
   "execution_count": 11,
   "id": "538fdb29",
   "metadata": {},
   "outputs": [],
   "source": [
    "# Step Size"
   ]
  },
  {
   "cell_type": "code",
   "execution_count": 14,
   "id": "98109911",
   "metadata": {},
   "outputs": [
    {
     "data": {
      "text/plain": [
       "'htY'"
      ]
     },
     "execution_count": 14,
     "metadata": {},
     "output_type": "execute_result"
    }
   ],
   "source": [
    "gelenVeri[1:10:3]"
   ]
  },
  {
   "cell_type": "code",
   "execution_count": 16,
   "id": "ba0a9460",
   "metadata": {},
   "outputs": [
    {
     "data": {
      "text/plain": [
       "'52isaYnitemhA'"
      ]
     },
     "execution_count": 16,
     "metadata": {},
     "output_type": "execute_result"
    }
   ],
   "source": [
    "gelenVeri[::-1] # TERSTEN YAZDIRMA ! "
   ]
  },
  {
   "cell_type": "code",
   "execution_count": 17,
   "id": "853b2cf2",
   "metadata": {},
   "outputs": [],
   "source": [
    "benimIsmin = \"Muhammed Burak Korkmaz\""
   ]
  },
  {
   "cell_type": "code",
   "execution_count": 18,
   "id": "d765ecaf",
   "metadata": {},
   "outputs": [
    {
     "data": {
      "text/plain": [
       "'Muhammed burak korkmaz'"
      ]
     },
     "execution_count": 18,
     "metadata": {},
     "output_type": "execute_result"
    }
   ],
   "source": [
    "benimIsmin.capitalize()"
   ]
  },
  {
   "cell_type": "code",
   "execution_count": 19,
   "id": "552746c0",
   "metadata": {},
   "outputs": [
    {
     "data": {
      "text/plain": [
       "'Muhammed Burak Korkmaz'"
      ]
     },
     "execution_count": 19,
     "metadata": {},
     "output_type": "execute_result"
    }
   ],
   "source": [
    "benimIsmin"
   ]
  },
  {
   "cell_type": "code",
   "execution_count": 20,
   "id": "c2be87f4",
   "metadata": {},
   "outputs": [],
   "source": [
    "benimYeniIsmim = benimIsmin.capitalize()"
   ]
  },
  {
   "cell_type": "code",
   "execution_count": 21,
   "id": "7af3a0c7",
   "metadata": {},
   "outputs": [
    {
     "data": {
      "text/plain": [
       "'Muhammed burak korkmaz'"
      ]
     },
     "execution_count": 21,
     "metadata": {},
     "output_type": "execute_result"
    }
   ],
   "source": [
    "benimYeniIsmim"
   ]
  },
  {
   "cell_type": "code",
   "execution_count": 26,
   "id": "84bbcf0a",
   "metadata": {},
   "outputs": [],
   "source": [
    "benimTamIsmim = \"Muhammed Burak Korkmaz\""
   ]
  },
  {
   "cell_type": "code",
   "execution_count": 28,
   "id": "a7c1b4e2",
   "metadata": {},
   "outputs": [],
   "source": [
    "list = benimTamIsmim.split()"
   ]
  },
  {
   "cell_type": "code",
   "execution_count": 30,
   "id": "3561497c",
   "metadata": {},
   "outputs": [
    {
     "data": {
      "text/plain": [
       "'Muhammed'"
      ]
     },
     "execution_count": 30,
     "metadata": {},
     "output_type": "execute_result"
    }
   ],
   "source": [
    "list[0]"
   ]
  },
  {
   "cell_type": "code",
   "execution_count": 31,
   "id": "6b8f1e48",
   "metadata": {},
   "outputs": [
    {
     "data": {
      "text/plain": [
       "'MUHAMMED BURAK KORKMAZ'"
      ]
     },
     "execution_count": 31,
     "metadata": {},
     "output_type": "execute_result"
    }
   ],
   "source": [
    "benimTamIsmim.upper()"
   ]
  },
  {
   "cell_type": "code",
   "execution_count": 32,
   "id": "33c9a5da",
   "metadata": {},
   "outputs": [
    {
     "data": {
      "text/plain": [
       "'muhammed burak korkmaz'"
      ]
     },
     "execution_count": 32,
     "metadata": {},
     "output_type": "execute_result"
    }
   ],
   "source": [
    "benimTamIsmim.lower()"
   ]
  },
  {
   "cell_type": "code",
   "execution_count": 33,
   "id": "400c42f4",
   "metadata": {},
   "outputs": [
    {
     "data": {
      "text/plain": [
       "'Muhammed Burak KorkmazMuhammed Burak KorkmazMuhammed Burak KorkmazMuhammed Burak KorkmazMuhammed Burak KorkmazMuhammed Burak KorkmazMuhammed Burak KorkmazMuhammed Burak KorkmazMuhammed Burak KorkmazMuhammed Burak Korkmaz'"
      ]
     },
     "execution_count": 33,
     "metadata": {},
     "output_type": "execute_result"
    }
   ],
   "source": [
    "benimTamIsmim*10"
   ]
  },
  {
   "cell_type": "code",
   "execution_count": 35,
   "id": "6a2a2b43",
   "metadata": {},
   "outputs": [
    {
     "data": {
      "text/plain": [
       "\"Muhammed Burak Korkmaz'dır\""
      ]
     },
     "execution_count": 35,
     "metadata": {},
     "output_type": "execute_result"
    }
   ],
   "source": [
    "benimTamIsmim + \"'dır\""
   ]
  },
  {
   "cell_type": "code",
   "execution_count": 37,
   "id": "795613e4",
   "metadata": {},
   "outputs": [
    {
     "name": "stdout",
     "output_type": "stream",
     "text": [
      "Merhaba benim adım Muhammed\n"
     ]
    }
   ],
   "source": [
    "önad = \"Muhammed\"\n",
    "ad = \"Burak\"\n",
    "soyad = \"Korkmaz\"\n",
    "\n",
    "print(\"Merhaba benim adım \"+önad+\" soyadım \"+\"\")"
   ]
  },
  {
   "cell_type": "code",
   "execution_count": null,
   "id": "c3f8d067",
   "metadata": {},
   "outputs": [],
   "source": []
  }
 ],
 "metadata": {
  "kernelspec": {
   "display_name": "Python 3 (ipykernel)",
   "language": "python",
   "name": "python3"
  },
  "language_info": {
   "codemirror_mode": {
    "name": "ipython",
    "version": 3
   },
   "file_extension": ".py",
   "mimetype": "text/x-python",
   "name": "python",
   "nbconvert_exporter": "python",
   "pygments_lexer": "ipython3",
   "version": "3.9.7"
  }
 },
 "nbformat": 4,
 "nbformat_minor": 5
}
