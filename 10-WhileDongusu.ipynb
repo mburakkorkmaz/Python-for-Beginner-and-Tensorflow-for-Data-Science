{
 "cells": [
  {
   "cell_type": "code",
   "execution_count": 3,
   "id": "7cb28165",
   "metadata": {},
   "outputs": [
    {
     "name": "stdout",
     "output_type": "stream",
     "text": [
      "0\n",
      "0.5\n",
      "1.0\n",
      "1.5\n",
      "2.0\n",
      "2.5\n",
      "3.0\n",
      "3.5\n",
      "4.0\n",
      "4.5\n",
      "5.0\n",
      "5.5\n",
      "6.0\n",
      "6.5\n",
      "7.0\n",
      "7.5\n",
      "8.0\n",
      "8.5\n",
      "9.0\n",
      "9.5\n"
     ]
    }
   ],
   "source": [
    "x = 0\n",
    "while x<10:\n",
    "    print(x)\n",
    "    x+=0.5"
   ]
  },
  {
   "cell_type": "code",
   "execution_count": 4,
   "id": "323ba9a4",
   "metadata": {},
   "outputs": [],
   "source": [
    "benimListem = [1,2,3,4,5]"
   ]
  },
  {
   "cell_type": "code",
   "execution_count": 5,
   "id": "545711bc",
   "metadata": {},
   "outputs": [
    {
     "data": {
      "text/plain": [
       "5"
      ]
     },
     "execution_count": 5,
     "metadata": {},
     "output_type": "execute_result"
    }
   ],
   "source": [
    "benimListem.pop()"
   ]
  },
  {
   "cell_type": "code",
   "execution_count": 6,
   "id": "cac2b051",
   "metadata": {},
   "outputs": [
    {
     "data": {
      "text/plain": [
       "[1, 2, 3, 4]"
      ]
     },
     "execution_count": 6,
     "metadata": {},
     "output_type": "execute_result"
    }
   ],
   "source": [
    "benimListem"
   ]
  },
  {
   "cell_type": "code",
   "execution_count": 7,
   "id": "99e0ee3d",
   "metadata": {},
   "outputs": [],
   "source": [
    "benimListem.append(5)"
   ]
  },
  {
   "cell_type": "code",
   "execution_count": 8,
   "id": "2e4dc035",
   "metadata": {},
   "outputs": [
    {
     "data": {
      "text/plain": [
       "[1, 2, 3, 4, 5]"
      ]
     },
     "execution_count": 8,
     "metadata": {},
     "output_type": "execute_result"
    }
   ],
   "source": [
    "benimListem"
   ]
  },
  {
   "cell_type": "code",
   "execution_count": 9,
   "id": "497cdec2",
   "metadata": {},
   "outputs": [
    {
     "name": "stdout",
     "output_type": "stream",
     "text": [
      "3 listede mevcut\n",
      "3 listede mevcut\n",
      "3 listede mevcut\n"
     ]
    }
   ],
   "source": [
    "while 3 in benimListem:\n",
    "    print(\"3 listede mevcut\")\n",
    "    benimListem.pop()"
   ]
  },
  {
   "cell_type": "code",
   "execution_count": 10,
   "id": "da1957e5",
   "metadata": {},
   "outputs": [],
   "source": [
    "numara = 0 "
   ]
  },
  {
   "cell_type": "code",
   "execution_count": 11,
   "id": "715d6358",
   "metadata": {},
   "outputs": [
    {
     "name": "stdout",
     "output_type": "stream",
     "text": [
      "0\n",
      "1\n",
      "2\n",
      "3\n"
     ]
    }
   ],
   "source": [
    "while numara < 5:\n",
    "    if numara ==4:\n",
    "        break\n",
    "    print(numara)\n",
    "    numara += 1"
   ]
  },
  {
   "cell_type": "code",
   "execution_count": 24,
   "id": "e579a5ba",
   "metadata": {},
   "outputs": [],
   "source": [
    "i = 0"
   ]
  },
  {
   "cell_type": "code",
   "execution_count": 25,
   "id": "9c9fd724",
   "metadata": {},
   "outputs": [
    {
     "name": "stdout",
     "output_type": "stream",
     "text": [
      "Yeni Değişkenin güncel değeri :0\n",
      "Yeni Değişkenin güncel değeri :1\n",
      "Yeni Değişkenin güncel değeri :2\n",
      "Yeni Değişkenin güncel değeri :3\n",
      "Yeni Değişkenin güncel değeri :4\n",
      "Yeni Değişkenin güncel değeri :5\n",
      "Yeni Değişkenin güncel değeri :6\n",
      "Yeni Değişkenin güncel değeri :7\n",
      "Yeni Değişkenin güncel değeri :8\n",
      "Yeni Değişkenin güncel değeri :9\n",
      "Yeni Değişkenin güncel değeri :10\n",
      "Yeni Değişkenin güncel değeri :11\n",
      "Yeni Değişkenin güncel değeri :12\n",
      "Yeni Değişkenin güncel değeri :13\n",
      "Yeni Değişkenin güncel değeri :14\n"
     ]
    }
   ],
   "source": [
    "while i < 15:\n",
    "    print(f\"Yeni Değişkenin güncel değeri :{i}\")\n",
    "    #print(\"Yeni Degiskenin Güncel Degeri: \",i,\"'dir.\")\n",
    "    i +=1"
   ]
  },
  {
   "cell_type": "code",
   "execution_count": null,
   "id": "5521d7c9",
   "metadata": {},
   "outputs": [],
   "source": []
  }
 ],
 "metadata": {
  "kernelspec": {
   "display_name": "Python 3 (ipykernel)",
   "language": "python",
   "name": "python3"
  },
  "language_info": {
   "codemirror_mode": {
    "name": "ipython",
    "version": 3
   },
   "file_extension": ".py",
   "mimetype": "text/x-python",
   "name": "python",
   "nbconvert_exporter": "python",
   "pygments_lexer": "ipython3",
   "version": "3.9.7"
  }
 },
 "nbformat": 4,
 "nbformat_minor": 5
}
